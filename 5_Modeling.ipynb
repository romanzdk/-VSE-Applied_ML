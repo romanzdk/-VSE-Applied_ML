{
 "cells": [
  {
   "cell_type": "code",
   "execution_count": 4,
   "metadata": {},
   "outputs": [],
   "source": [
    "import warnings\n",
    "\n",
    "import pandas as pd\n",
    "from pyspark.ml import Pipeline\n",
    "from pyspark.sql import SparkSession\n",
    "from pyspark.sql import functions as F\n",
    "from pyspark.mllib.evaluation import BinaryClassificationMetrics, MulticlassMetrics"
   ]
  },
  {
   "cell_type": "code",
   "execution_count": 5,
   "metadata": {},
   "outputs": [
    {
     "name": "stderr",
     "output_type": "stream",
     "text": [
      "WARNING: An illegal reflective access operation has occurred\n",
      "WARNING: Illegal reflective access by org.apache.spark.unsafe.Platform (file:/Users/romanzdk/Repos/-VSE-Applied_ML/venv/lib/python3.10/site-packages/pyspark/jars/spark-unsafe_2.12-3.1.2.jar) to constructor java.nio.DirectByteBuffer(long,int)\n",
      "WARNING: Please consider reporting this to the maintainers of org.apache.spark.unsafe.Platform\n",
      "WARNING: Use --illegal-access=warn to enable warnings of further illegal reflective access operations\n",
      "WARNING: All illegal access operations will be denied in a future release\n",
      "22/01/10 18:20:32 WARN NativeCodeLoader: Unable to load native-hadoop library for your platform... using builtin-java classes where applicable\n",
      "Using Spark's default log4j profile: org/apache/spark/log4j-defaults.properties\n",
      "Setting default log level to \"WARN\".\n",
      "To adjust logging level use sc.setLogLevel(newLevel). For SparkR, use setLogLevel(newLevel).\n",
      "22/01/10 18:20:33 WARN Utils: Service 'SparkUI' could not bind on port 4040. Attempting port 4041.\n"
     ]
    }
   ],
   "source": [
    "warnings.filterwarnings('ignore')\n",
    "pd.set_option('max_columns', None)\n",
    "spark = SparkSession.builder.appName(\"modelovaniNehod\").getOrCreate()"
   ]
  },
  {
   "cell_type": "code",
   "execution_count": 6,
   "metadata": {},
   "outputs": [
    {
     "name": "stderr",
     "output_type": "stream",
     "text": [
      "                                                                                \r"
     ]
    },
    {
     "data": {
      "text/html": [
       "<div>\n",
       "<style scoped>\n",
       "    .dataframe tbody tr th:only-of-type {\n",
       "        vertical-align: middle;\n",
       "    }\n",
       "\n",
       "    .dataframe tbody tr th {\n",
       "        vertical-align: top;\n",
       "    }\n",
       "\n",
       "    .dataframe thead th {\n",
       "        text-align: right;\n",
       "    }\n",
       "</style>\n",
       "<table border=\"1\" class=\"dataframe\">\n",
       "  <thead>\n",
       "    <tr style=\"text-align: right;\">\n",
       "      <th></th>\n",
       "      <th>features</th>\n",
       "      <th>label</th>\n",
       "    </tr>\n",
       "  </thead>\n",
       "  <tbody>\n",
       "    <tr>\n",
       "      <th>0</th>\n",
       "      <td>[104.52085919440314, 3.962358629522141, 0.0, 4...</td>\n",
       "      <td>1.0</td>\n",
       "    </tr>\n",
       "    <tr>\n",
       "      <th>1</th>\n",
       "      <td>[104.52085919440314, 4.129996879232693, 0.0, 4...</td>\n",
       "      <td>0.0</td>\n",
       "    </tr>\n",
       "    <tr>\n",
       "      <th>2</th>\n",
       "      <td>[104.52085919440314, 4.210006043867275, 0.0, 4...</td>\n",
       "      <td>0.0</td>\n",
       "    </tr>\n",
       "    <tr>\n",
       "      <th>3</th>\n",
       "      <td>[104.52085919440314, 4.17952636210172, 0.0, 4....</td>\n",
       "      <td>1.0</td>\n",
       "    </tr>\n",
       "    <tr>\n",
       "      <th>4</th>\n",
       "      <td>[105.53097940024936, 3.825200061577144, 0.0, 4...</td>\n",
       "      <td>0.0</td>\n",
       "    </tr>\n",
       "  </tbody>\n",
       "</table>\n",
       "</div>"
      ],
      "text/plain": [
       "                                            features  label\n",
       "0  [104.52085919440314, 3.962358629522141, 0.0, 4...    1.0\n",
       "1  [104.52085919440314, 4.129996879232693, 0.0, 4...    0.0\n",
       "2  [104.52085919440314, 4.210006043867275, 0.0, 4...    0.0\n",
       "3  [104.52085919440314, 4.17952636210172, 0.0, 4....    1.0\n",
       "4  [105.53097940024936, 3.825200061577144, 0.0, 4...    0.0"
      ]
     },
     "execution_count": 6,
     "metadata": {},
     "output_type": "execute_result"
    }
   ],
   "source": [
    "df = spark.read.parquet(\"data/4_processed\")\n",
    "df.limit(5).toPandas()"
   ]
  },
  {
   "cell_type": "code",
   "execution_count": 49,
   "metadata": {},
   "outputs": [],
   "source": [
    "with open('data/feature_list.txt', 'r') as f:\n",
    "    feature_cols = f.read().splitlines()"
   ]
  },
  {
   "cell_type": "markdown",
   "metadata": {},
   "source": [
    "# Split data"
   ]
  },
  {
   "cell_type": "code",
   "execution_count": 4,
   "metadata": {},
   "outputs": [
    {
     "name": "stderr",
     "output_type": "stream",
     "text": [
      "[Stage 4:===================>                                       (3 + 6) / 9]\r"
     ]
    },
    {
     "name": "stdout",
     "output_type": "stream",
     "text": [
      "trainData count is 4150307, testDataCount is: 1781118\n"
     ]
    },
    {
     "name": "stderr",
     "output_type": "stream",
     "text": [
      "                                                                                \r"
     ]
    }
   ],
   "source": [
    "trainData, testData = df.orderBy(F.rand(seed=0)).randomSplit([0.7, 0.3], seed=0)\n",
    "print(\"trainData count is {}, testDataCount is: {}\".format(trainData.count(), testData.count()))"
   ]
  },
  {
   "cell_type": "markdown",
   "metadata": {},
   "source": [
    "# Prepare estimators"
   ]
  },
  {
   "cell_type": "code",
   "execution_count": 28,
   "metadata": {},
   "outputs": [],
   "source": [
    "stages = []\n",
    "\n",
    "# DECISION TREE CLASSIFIER\n",
    "from pyspark.ml.classification import DecisionTreeClassifier\n",
    "dt = DecisionTreeClassifier(labelCol=\"label\", featuresCol=\"features\", predictionCol=\"DTprediction\", rawPredictionCol=\"DTRawPrediction\", probabilityCol=\"DTProbability\")\n",
    "stages.append(dt)\n",
    "\n",
    "# RANDOM FOREST CLASSIFIER\n",
    "from pyspark.ml.classification import RandomForestClassifier\n",
    "rf = RandomForestClassifier(labelCol=\"label\", featuresCol=\"features\", predictionCol=\"RFprediction\", rawPredictionCol=\"RFRawPrediction\", probabilityCol=\"RFProbability\", numTrees=10)\n",
    "stages.append(rf)\n",
    "\n",
    "# GBT CLASSIFIER\n",
    "from pyspark.ml.classification import GBTClassifier\n",
    "gbt = GBTClassifier(labelCol=\"label\", featuresCol=\"features\", predictionCol=\"GBTprediction\", maxIter=10)\n",
    "stages.append(gbt)\n",
    "\n",
    "# LOGISTIC REGRESSION\n",
    "from pyspark.ml.classification import LogisticRegression\n",
    "lr = LogisticRegression(featuresCol=\"features\", labelCol=\"label\", predictionCol=\"LRprediction\", probabilityCol=\"LRProbability\", rawPredictionCol=\"LRRawPrediction\", family=\"binomial\", threshold=0.5)\n",
    "stages.append(lr)\n",
    "\n",
    "# NAIVE BAYES\n",
    "from pyspark.ml.classification import NaiveBayes\n",
    "nb = NaiveBayes(smoothing=1.0, modelType=\"multinomial\", featuresCol=\"features\", labelCol=\"label\", predictionCol=\"NBprediction\", probabilityCol=\"NBProbability\", rawPredictionCol=\"NBRawPprediction\")\n",
    "stages.append(nb)"
   ]
  },
  {
   "cell_type": "markdown",
   "metadata": {},
   "source": [
    "# Predict"
   ]
  },
  {
   "cell_type": "code",
   "execution_count": null,
   "metadata": {},
   "outputs": [],
   "source": [
    "pipeline = Pipeline(stages = stages)\n",
    "predictionModel = pipeline.fit(trainData)\n",
    "predictions = predictionModel.transform(testData)"
   ]
  },
  {
   "cell_type": "markdown",
   "metadata": {},
   "source": [
    "# Evaluate"
   ]
  },
  {
   "cell_type": "code",
   "execution_count": 30,
   "metadata": {},
   "outputs": [
    {
     "name": "stderr",
     "output_type": "stream",
     "text": [
      "                                                                                \r"
     ]
    },
    {
     "data": {
      "text/html": [
       "<div>\n",
       "<style scoped>\n",
       "    .dataframe tbody tr th:only-of-type {\n",
       "        vertical-align: middle;\n",
       "    }\n",
       "\n",
       "    .dataframe tbody tr th {\n",
       "        vertical-align: top;\n",
       "    }\n",
       "\n",
       "    .dataframe thead th {\n",
       "        text-align: right;\n",
       "    }\n",
       "</style>\n",
       "<table border=\"1\" class=\"dataframe\">\n",
       "  <thead>\n",
       "    <tr style=\"text-align: right;\">\n",
       "      <th></th>\n",
       "      <th>features</th>\n",
       "      <th>label</th>\n",
       "      <th>DTRawPrediction</th>\n",
       "      <th>DTProbability</th>\n",
       "      <th>DTprediction</th>\n",
       "      <th>RFRawPrediction</th>\n",
       "      <th>RFProbability</th>\n",
       "      <th>RFprediction</th>\n",
       "      <th>rawPrediction</th>\n",
       "      <th>probability</th>\n",
       "      <th>GBTprediction</th>\n",
       "      <th>LRRawPrediction</th>\n",
       "      <th>LRProbability</th>\n",
       "      <th>LRprediction</th>\n",
       "      <th>NBRawPprediction</th>\n",
       "      <th>NBProbability</th>\n",
       "      <th>NBprediction</th>\n",
       "    </tr>\n",
       "  </thead>\n",
       "  <tbody>\n",
       "    <tr>\n",
       "      <th>0</th>\n",
       "      <td>[102.92593255359333, 3.897589305770337, 0.0, 4...</td>\n",
       "      <td>1.0</td>\n",
       "      <td>[14114.0, 86365.0]</td>\n",
       "      <td>[0.14046716229261835, 0.8595328377073816]</td>\n",
       "      <td>1.0</td>\n",
       "      <td>[2.2149286649333364, 7.785071335066663]</td>\n",
       "      <td>[0.22149286649333363, 0.7785071335066662]</td>\n",
       "      <td>1.0</td>\n",
       "      <td>[-0.8734259294937008, 0.8734259294937008]</td>\n",
       "      <td>[0.14844471073298196, 0.8515552892670181]</td>\n",
       "      <td>1.0</td>\n",
       "      <td>[-1.9354780254956232, 1.9354780254956232]</td>\n",
       "      <td>[0.1261454843135585, 0.8738545156864415]</td>\n",
       "      <td>1.0</td>\n",
       "      <td>[-286.1314664020237, -285.86528232354163]</td>\n",
       "      <td>[0.43384413696959273, 0.5661558630304073]</td>\n",
       "      <td>1.0</td>\n",
       "    </tr>\n",
       "    <tr>\n",
       "      <th>1</th>\n",
       "      <td>[102.92593255359333, 3.9737885101842245, 0.0, ...</td>\n",
       "      <td>0.0</td>\n",
       "      <td>[14114.0, 86365.0]</td>\n",
       "      <td>[0.14046716229261835, 0.8595328377073816]</td>\n",
       "      <td>1.0</td>\n",
       "      <td>[2.6836983663611145, 7.3163016336388855]</td>\n",
       "      <td>[0.26836983663611147, 0.7316301633638885]</td>\n",
       "      <td>1.0</td>\n",
       "      <td>[-0.3796607285598292, 0.3796607285598292]</td>\n",
       "      <td>[0.3187936033394362, 0.6812063966605638]</td>\n",
       "      <td>1.0</td>\n",
       "      <td>[-1.006944896450669, 1.006944896450669]</td>\n",
       "      <td>[0.26757816491949965, 0.7324218350805003]</td>\n",
       "      <td>1.0</td>\n",
       "      <td>[-289.50895111468884, -289.35612038857244]</td>\n",
       "      <td>[0.4618665139786839, 0.538133486021316]</td>\n",
       "      <td>1.0</td>\n",
       "    </tr>\n",
       "    <tr>\n",
       "      <th>2</th>\n",
       "      <td>[102.92593255359333, 4.046177754377418, 0.0, 4...</td>\n",
       "      <td>0.0</td>\n",
       "      <td>[169423.0, 29364.0]</td>\n",
       "      <td>[0.8522841030852119, 0.1477158969147882]</td>\n",
       "      <td>0.0</td>\n",
       "      <td>[7.610091171949234, 2.389908828050766]</td>\n",
       "      <td>[0.7610091171949234, 0.23899088280507658]</td>\n",
       "      <td>0.0</td>\n",
       "      <td>[1.0629609199150238, -1.0629609199150238]</td>\n",
       "      <td>[0.8933972326492033, 0.10660276735079666]</td>\n",
       "      <td>0.0</td>\n",
       "      <td>[2.4098706234398897, -2.4098706234398897]</td>\n",
       "      <td>[0.9175768977116707, 0.08242310228832928]</td>\n",
       "      <td>0.0</td>\n",
       "      <td>[-300.06836830705487, -300.0993298184919]</td>\n",
       "      <td>[0.5077397595815499, 0.49226024041845]</td>\n",
       "      <td>0.0</td>\n",
       "    </tr>\n",
       "    <tr>\n",
       "      <th>3</th>\n",
       "      <td>[102.92593255359333, 4.084277356584361, 0.0, 4...</td>\n",
       "      <td>0.0</td>\n",
       "      <td>[291418.0, 33936.0]</td>\n",
       "      <td>[0.8956951505129797, 0.10430484948702029]</td>\n",
       "      <td>0.0</td>\n",
       "      <td>[8.15101955507691, 1.8489804449230898]</td>\n",
       "      <td>[0.815101955507691, 0.18489804449230898]</td>\n",
       "      <td>0.0</td>\n",
       "      <td>[1.2420652235828653, -1.2420652235828653]</td>\n",
       "      <td>[0.923021789995254, 0.07697821000474603]</td>\n",
       "      <td>0.0</td>\n",
       "      <td>[4.758539429078924, -4.758539429078924]</td>\n",
       "      <td>[0.9914948292355189, 0.008505170764481096]</td>\n",
       "      <td>0.0</td>\n",
       "      <td>[-313.83150295442186, -313.98401598458383]</td>\n",
       "      <td>[0.5380545230583711, 0.46194547694162885]</td>\n",
       "      <td>0.0</td>\n",
       "    </tr>\n",
       "    <tr>\n",
       "      <th>4</th>\n",
       "      <td>[102.92593255359333, 4.084277356584361, 0.0, 4...</td>\n",
       "      <td>0.0</td>\n",
       "      <td>[169423.0, 29364.0]</td>\n",
       "      <td>[0.8522841030852119, 0.1477158969147882]</td>\n",
       "      <td>0.0</td>\n",
       "      <td>[7.610091171949234, 2.389908828050766]</td>\n",
       "      <td>[0.7610091171949234, 0.23899088280507658]</td>\n",
       "      <td>0.0</td>\n",
       "      <td>[1.0629609199150238, -1.0629609199150238]</td>\n",
       "      <td>[0.8933972326492033, 0.10660276735079666]</td>\n",
       "      <td>0.0</td>\n",
       "      <td>[2.414360257706594, -2.414360257706594]</td>\n",
       "      <td>[0.9179158107089528, 0.08208418929104722]</td>\n",
       "      <td>0.0</td>\n",
       "      <td>[-317.9183866624868, -317.96171629268974]</td>\n",
       "      <td>[0.5108307130873814, 0.4891692869126187]</td>\n",
       "      <td>0.0</td>\n",
       "    </tr>\n",
       "  </tbody>\n",
       "</table>\n",
       "</div>"
      ],
      "text/plain": [
       "                                            features  label  \\\n",
       "0  [102.92593255359333, 3.897589305770337, 0.0, 4...    1.0   \n",
       "1  [102.92593255359333, 3.9737885101842245, 0.0, ...    0.0   \n",
       "2  [102.92593255359333, 4.046177754377418, 0.0, 4...    0.0   \n",
       "3  [102.92593255359333, 4.084277356584361, 0.0, 4...    0.0   \n",
       "4  [102.92593255359333, 4.084277356584361, 0.0, 4...    0.0   \n",
       "\n",
       "       DTRawPrediction                              DTProbability  \\\n",
       "0   [14114.0, 86365.0]  [0.14046716229261835, 0.8595328377073816]   \n",
       "1   [14114.0, 86365.0]  [0.14046716229261835, 0.8595328377073816]   \n",
       "2  [169423.0, 29364.0]   [0.8522841030852119, 0.1477158969147882]   \n",
       "3  [291418.0, 33936.0]  [0.8956951505129797, 0.10430484948702029]   \n",
       "4  [169423.0, 29364.0]   [0.8522841030852119, 0.1477158969147882]   \n",
       "\n",
       "   DTprediction                           RFRawPrediction  \\\n",
       "0           1.0   [2.2149286649333364, 7.785071335066663]   \n",
       "1           1.0  [2.6836983663611145, 7.3163016336388855]   \n",
       "2           0.0    [7.610091171949234, 2.389908828050766]   \n",
       "3           0.0    [8.15101955507691, 1.8489804449230898]   \n",
       "4           0.0    [7.610091171949234, 2.389908828050766]   \n",
       "\n",
       "                               RFProbability  RFprediction  \\\n",
       "0  [0.22149286649333363, 0.7785071335066662]           1.0   \n",
       "1  [0.26836983663611147, 0.7316301633638885]           1.0   \n",
       "2  [0.7610091171949234, 0.23899088280507658]           0.0   \n",
       "3   [0.815101955507691, 0.18489804449230898]           0.0   \n",
       "4  [0.7610091171949234, 0.23899088280507658]           0.0   \n",
       "\n",
       "                               rawPrediction  \\\n",
       "0  [-0.8734259294937008, 0.8734259294937008]   \n",
       "1  [-0.3796607285598292, 0.3796607285598292]   \n",
       "2  [1.0629609199150238, -1.0629609199150238]   \n",
       "3  [1.2420652235828653, -1.2420652235828653]   \n",
       "4  [1.0629609199150238, -1.0629609199150238]   \n",
       "\n",
       "                                 probability  GBTprediction  \\\n",
       "0  [0.14844471073298196, 0.8515552892670181]            1.0   \n",
       "1   [0.3187936033394362, 0.6812063966605638]            1.0   \n",
       "2  [0.8933972326492033, 0.10660276735079666]            0.0   \n",
       "3   [0.923021789995254, 0.07697821000474603]            0.0   \n",
       "4  [0.8933972326492033, 0.10660276735079666]            0.0   \n",
       "\n",
       "                             LRRawPrediction  \\\n",
       "0  [-1.9354780254956232, 1.9354780254956232]   \n",
       "1    [-1.006944896450669, 1.006944896450669]   \n",
       "2  [2.4098706234398897, -2.4098706234398897]   \n",
       "3    [4.758539429078924, -4.758539429078924]   \n",
       "4    [2.414360257706594, -2.414360257706594]   \n",
       "\n",
       "                                LRProbability  LRprediction  \\\n",
       "0    [0.1261454843135585, 0.8738545156864415]           1.0   \n",
       "1   [0.26757816491949965, 0.7324218350805003]           1.0   \n",
       "2   [0.9175768977116707, 0.08242310228832928]           0.0   \n",
       "3  [0.9914948292355189, 0.008505170764481096]           0.0   \n",
       "4   [0.9179158107089528, 0.08208418929104722]           0.0   \n",
       "\n",
       "                             NBRawPprediction  \\\n",
       "0   [-286.1314664020237, -285.86528232354163]   \n",
       "1  [-289.50895111468884, -289.35612038857244]   \n",
       "2   [-300.06836830705487, -300.0993298184919]   \n",
       "3  [-313.83150295442186, -313.98401598458383]   \n",
       "4   [-317.9183866624868, -317.96171629268974]   \n",
       "\n",
       "                               NBProbability  NBprediction  \n",
       "0  [0.43384413696959273, 0.5661558630304073]           1.0  \n",
       "1    [0.4618665139786839, 0.538133486021316]           1.0  \n",
       "2     [0.5077397595815499, 0.49226024041845]           0.0  \n",
       "3  [0.5380545230583711, 0.46194547694162885]           0.0  \n",
       "4   [0.5108307130873814, 0.4891692869126187]           0.0  "
      ]
     },
     "execution_count": 30,
     "metadata": {},
     "output_type": "execute_result"
    }
   ],
   "source": [
    "predictions.limit(5).toPandas()"
   ]
  },
  {
   "cell_type": "code",
   "execution_count": 31,
   "metadata": {},
   "outputs": [],
   "source": [
    "def get_metrics(prefix):\n",
    "    predictionAndTarget = predictions.select(['label', prefix + 'prediction'])\n",
    "\n",
    "    # Create both evaluators\n",
    "    metrics_binary = BinaryClassificationMetrics(predictionAndTarget.rdd.map(tuple))\n",
    "    metrics_multi = MulticlassMetrics(predictionAndTarget.rdd.map(tuple))\n",
    "\n",
    "    acc = metrics_multi.accuracy\n",
    "    f1 = metrics_multi.fMeasure(1.0)\n",
    "    precision = metrics_multi.precision(1.0)\n",
    "    recall = metrics_multi.recall(1.0)\n",
    "    auc = metrics_binary.areaUnderROC\n",
    "    \n",
    "    return dict(\n",
    "        acc = acc,\n",
    "        f1 = f1,\n",
    "        precision = precision,\n",
    "        recall = recall,\n",
    "        auc = auc\n",
    "    )"
   ]
  },
  {
   "cell_type": "code",
   "execution_count": 32,
   "metadata": {},
   "outputs": [
    {
     "name": "stdout",
     "output_type": "stream",
     "text": [
      "DT\n"
     ]
    },
    {
     "name": "stderr",
     "output_type": "stream",
     "text": [
      "                                                                                \r"
     ]
    },
    {
     "name": "stdout",
     "output_type": "stream",
     "text": [
      "RF\n"
     ]
    },
    {
     "name": "stderr",
     "output_type": "stream",
     "text": [
      "                                                                                \r"
     ]
    },
    {
     "name": "stdout",
     "output_type": "stream",
     "text": [
      "GBT\n"
     ]
    },
    {
     "name": "stderr",
     "output_type": "stream",
     "text": [
      "                                                                                \r"
     ]
    },
    {
     "name": "stdout",
     "output_type": "stream",
     "text": [
      "LR\n"
     ]
    },
    {
     "name": "stderr",
     "output_type": "stream",
     "text": [
      "                                                                                \r"
     ]
    },
    {
     "name": "stdout",
     "output_type": "stream",
     "text": [
      "NB\n"
     ]
    },
    {
     "name": "stderr",
     "output_type": "stream",
     "text": [
      "                                                                                \r"
     ]
    }
   ],
   "source": [
    "estimators = ['DT', 'RF', 'GBT', 'LR', 'NB']\n",
    "performances = dict()\n",
    "\n",
    "for estimator in estimators:\n",
    "    print(estimator)\n",
    "    performances[estimator] = get_metrics(estimator)"
   ]
  },
  {
   "cell_type": "code",
   "execution_count": 33,
   "metadata": {},
   "outputs": [
    {
     "data": {
      "text/html": [
       "<div>\n",
       "<style scoped>\n",
       "    .dataframe tbody tr th:only-of-type {\n",
       "        vertical-align: middle;\n",
       "    }\n",
       "\n",
       "    .dataframe tbody tr th {\n",
       "        vertical-align: top;\n",
       "    }\n",
       "\n",
       "    .dataframe thead th {\n",
       "        text-align: right;\n",
       "    }\n",
       "</style>\n",
       "<table border=\"1\" class=\"dataframe\">\n",
       "  <thead>\n",
       "    <tr style=\"text-align: right;\">\n",
       "      <th></th>\n",
       "      <th>acc</th>\n",
       "      <th>f1</th>\n",
       "      <th>precision</th>\n",
       "      <th>recall</th>\n",
       "      <th>auc</th>\n",
       "    </tr>\n",
       "  </thead>\n",
       "  <tbody>\n",
       "    <tr>\n",
       "      <th>LR</th>\n",
       "      <td>0.779064</td>\n",
       "      <td>0.789827</td>\n",
       "      <td>0.794493</td>\n",
       "      <td>0.785215</td>\n",
       "      <td>0.778690</td>\n",
       "    </tr>\n",
       "    <tr>\n",
       "      <th>GBT</th>\n",
       "      <td>0.765141</td>\n",
       "      <td>0.777575</td>\n",
       "      <td>0.785662</td>\n",
       "      <td>0.769653</td>\n",
       "      <td>0.764818</td>\n",
       "    </tr>\n",
       "    <tr>\n",
       "      <th>RF</th>\n",
       "      <td>0.742364</td>\n",
       "      <td>0.759276</td>\n",
       "      <td>0.777601</td>\n",
       "      <td>0.741795</td>\n",
       "      <td>0.742424</td>\n",
       "    </tr>\n",
       "    <tr>\n",
       "      <th>NB</th>\n",
       "      <td>0.681694</td>\n",
       "      <td>0.749676</td>\n",
       "      <td>0.912191</td>\n",
       "      <td>0.636311</td>\n",
       "      <td>0.726736</td>\n",
       "    </tr>\n",
       "    <tr>\n",
       "      <th>DT</th>\n",
       "      <td>0.739318</td>\n",
       "      <td>0.733386</td>\n",
       "      <td>0.686170</td>\n",
       "      <td>0.787581</td>\n",
       "      <td>0.743283</td>\n",
       "    </tr>\n",
       "  </tbody>\n",
       "</table>\n",
       "</div>"
      ],
      "text/plain": [
       "          acc        f1  precision    recall       auc\n",
       "LR   0.779064  0.789827   0.794493  0.785215  0.778690\n",
       "GBT  0.765141  0.777575   0.785662  0.769653  0.764818\n",
       "RF   0.742364  0.759276   0.777601  0.741795  0.742424\n",
       "NB   0.681694  0.749676   0.912191  0.636311  0.726736\n",
       "DT   0.739318  0.733386   0.686170  0.787581  0.743283"
      ]
     },
     "execution_count": 33,
     "metadata": {},
     "output_type": "execute_result"
    }
   ],
   "source": [
    "pd.DataFrame.from_dict(performances).T.sort_values('f1', ascending=False)"
   ]
  },
  {
   "cell_type": "markdown",
   "metadata": {},
   "source": [
    "## Logistic regression coefficients"
   ]
  },
  {
   "cell_type": "code",
   "execution_count": null,
   "metadata": {},
   "outputs": [],
   "source": [
    "lrModel = lr.fit(trainData)"
   ]
  },
  {
   "cell_type": "code",
   "execution_count": 41,
   "metadata": {},
   "outputs": [
    {
     "data": {
      "text/html": [
       "<div>\n",
       "<style scoped>\n",
       "    .dataframe tbody tr th:only-of-type {\n",
       "        vertical-align: middle;\n",
       "    }\n",
       "\n",
       "    .dataframe tbody tr th {\n",
       "        vertical-align: top;\n",
       "    }\n",
       "\n",
       "    .dataframe thead th {\n",
       "        text-align: right;\n",
       "    }\n",
       "</style>\n",
       "<table border=\"1\" class=\"dataframe\">\n",
       "  <thead>\n",
       "    <tr style=\"text-align: right;\">\n",
       "      <th></th>\n",
       "      <th>0</th>\n",
       "    </tr>\n",
       "  </thead>\n",
       "  <tbody>\n",
       "    <tr>\n",
       "      <th>Elo hráče před</th>\n",
       "      <td>2.770872</td>\n",
       "    </tr>\n",
       "    <tr>\n",
       "      <th>Max elo</th>\n",
       "      <td>0.456275</td>\n",
       "    </tr>\n",
       "    <tr>\n",
       "      <th>Rok narození</th>\n",
       "      <td>0.056394</td>\n",
       "    </tr>\n",
       "    <tr>\n",
       "      <th>Max elo_soupeř</th>\n",
       "      <td>0.038403</td>\n",
       "    </tr>\n",
       "    <tr>\n",
       "      <th>Elo nejlepšího poraženého soupeře</th>\n",
       "      <td>0.029778</td>\n",
       "    </tr>\n",
       "    <tr>\n",
       "      <th>Hráč je žena</th>\n",
       "      <td>0.003589</td>\n",
       "    </tr>\n",
       "    <tr>\n",
       "      <th>Den v týdnu</th>\n",
       "      <td>0.001842</td>\n",
       "    </tr>\n",
       "    <tr>\n",
       "      <th>Víkend</th>\n",
       "      <td>0.000000</td>\n",
       "    </tr>\n",
       "    <tr>\n",
       "      <th>obdobi</th>\n",
       "      <td>0.000000</td>\n",
       "    </tr>\n",
       "    <tr>\n",
       "      <th>Soupeř je žena</th>\n",
       "      <td>-0.000492</td>\n",
       "    </tr>\n",
       "    <tr>\n",
       "      <th>Elo nejlepšího poraženého soupeře_soupeř</th>\n",
       "      <td>-0.037615</td>\n",
       "    </tr>\n",
       "    <tr>\n",
       "      <th>Rok narození soupeř</th>\n",
       "      <td>-0.121396</td>\n",
       "    </tr>\n",
       "    <tr>\n",
       "      <th>Elo soupeře před</th>\n",
       "      <td>-3.538293</td>\n",
       "    </tr>\n",
       "  </tbody>\n",
       "</table>\n",
       "</div>"
      ],
      "text/plain": [
       "                                                 0\n",
       "Elo hráče před                            2.770872\n",
       "Max elo                                   0.456275\n",
       "Rok narození                              0.056394\n",
       "Max elo_soupeř                            0.038403\n",
       "Elo nejlepšího poraženého soupeře         0.029778\n",
       "Hráč je žena                              0.003589\n",
       "Den v týdnu                               0.001842\n",
       "Víkend                                    0.000000\n",
       "obdobi                                    0.000000\n",
       "Soupeř je žena                           -0.000492\n",
       "Elo nejlepšího poraženého soupeře_soupeř -0.037615\n",
       "Rok narození soupeř                      -0.121396\n",
       "Elo soupeře před                         -3.538293"
      ]
     },
     "execution_count": 41,
     "metadata": {},
     "output_type": "execute_result"
    }
   ],
   "source": [
    "predictors = pd.DataFrame.from_dict(dict(zip(feature_cols, lrModel.coefficients)), orient='index').sort_values(0, ascending=False)\n",
    "predictors"
   ]
  },
  {
   "cell_type": "code",
   "execution_count": 68,
   "metadata": {},
   "outputs": [
    {
     "name": "stdout",
     "output_type": "stream",
     "text": [
      "The most significant predictors are: Elo hráče před, Max elo and Elo soupeře před\n"
     ]
    }
   ],
   "source": [
    "print(f\"The most significant predictors are: {predictors.index[0]}, {predictors.index[1]} and {predictors.index[-1]}\")"
   ]
  },
  {
   "cell_type": "markdown",
   "metadata": {},
   "source": [
    "<hr>"
   ]
  },
  {
   "cell_type": "markdown",
   "metadata": {},
   "source": [
    "# Neural networks (Keras)"
   ]
  },
  {
   "cell_type": "code",
   "execution_count": 23,
   "metadata": {},
   "outputs": [],
   "source": [
    "from elephas.ml_model import ElephasEstimator\n",
    "\n",
    "from keras.layers import Dense, Dropout\n",
    "from keras.models import Sequential\n",
    "from tensorflow.keras import optimizers\n",
    "from keras.callbacks import EarlyStopping"
   ]
  },
  {
   "cell_type": "code",
   "execution_count": 8,
   "metadata": {},
   "outputs": [
    {
     "data": {
      "text/plain": [
       "13"
      ]
     },
     "execution_count": 8,
     "metadata": {},
     "output_type": "execute_result"
    }
   ],
   "source": [
    "input_dim = len(df.select(\"features\").first()[0])\n",
    "input_dim"
   ]
  },
  {
   "cell_type": "code",
   "execution_count": 40,
   "metadata": {},
   "outputs": [],
   "source": [
    "model = Sequential([\n",
    "    Dense(64, activation=\"relu\", input_shape=(input_dim,)),\n",
    "    Dropout(0.4),\n",
    "\n",
    "    Dense(32, activation=\"relu\"),\n",
    "    Dropout(0.2),\n",
    "    \n",
    "    Dense(1, activation=\"sigmoid\"),\n",
    "])\n",
    "\n",
    "model.compile(loss=\"binary_crossentropy\",\n",
    "             optimizer=\"adam\")\n",
    "\n",
    "adam = optimizers.Adam(lr=0.01)\n",
    "adam_conf = optimizers.serialize(adam)\n",
    "es = EarlyStopping(patience=5, restore_best_weights=True)"
   ]
  },
  {
   "cell_type": "code",
   "execution_count": 22,
   "metadata": {},
   "outputs": [
    {
     "data": {
      "text/plain": [
       "ElephasEstimator_8dcc9fd86f06"
      ]
     },
     "execution_count": 22,
     "metadata": {},
     "output_type": "execute_result"
    }
   ],
   "source": [
    "# Initialize Elephas Spark ML Estimator\n",
    "elephas = ElephasEstimator()\n",
    "elephas.set_keras_model_config(model.to_json())\n",
    "elephas.set_optimizer_config(adam_conf)\n",
    "elephas.set_mode(\"synchronous\")\n",
    "elephas.set_loss(\"binary_crossentropy\")\n",
    "elephas.set_metrics(['acc'])\n",
    "elephas.setFeaturesCol(\"features\")\n",
    "elephas.setLabelCol(\"label\")\n",
    "elephas.set_epochs(15)\n",
    "elephas.set_batch_size(64)\n",
    "elephas.set_num_workers(2)\n",
    "elephas.set_verbosity(0)\n",
    "elephas.set_validation_split(0.1)\n",
    "elephas.set_categorical_labels(False)\n",
    "elephas.set_nb_classes(1)"
   ]
  },
  {
   "cell_type": "code",
   "execution_count": 23,
   "metadata": {},
   "outputs": [
    {
     "name": "stderr",
     "output_type": "stream",
     "text": [
      "                                                                                \r"
     ]
    },
    {
     "name": "stdout",
     "output_type": "stream",
     "text": [
      ">>> Fit model\n"
     ]
    },
    {
     "name": "stderr",
     "output_type": "stream",
     "text": [
      "2021-12-23 14:14:42.116191: I tensorflow/core/platform/cpu_feature_guard.cc:151] This TensorFlow binary is optimized with oneAPI Deep Neural Network Library (oneDNN) to use the following CPU instructions in performance-critical operations:  AVX2 AVX512F FMA\n",
      "To enable them in other operations, rebuild TensorFlow with the appropriate compiler flags.\n",
      "2021-12-23 14:14:42.116200: I tensorflow/core/platform/cpu_feature_guard.cc:151] This TensorFlow binary is optimized with oneAPI Deep Neural Network Library (oneDNN) to use the following CPU instructions in performance-critical operations:  AVX2 AVX512F FMA\n",
      "To enable them in other operations, rebuild TensorFlow with the appropriate compiler flags.\n",
      "[Stage 25:==============>   (7 + 2) / 9][Stage 33:>                 (0 + 2) / 2]\r"
     ]
    },
    {
     "name": "stdout",
     "output_type": "stream",
     "text": [
      ">>> Synchronous training complete.\n"
     ]
    },
    {
     "name": "stderr",
     "output_type": "stream",
     "text": [
      "[Stage 25:=============================================>            (7 + 2) / 9]\r"
     ]
    }
   ],
   "source": [
    "pipeline = Pipeline(stages=[elephas])\n",
    "fitted_pipeline = pipeline.fit(trainData.sample(fraction=0.5))"
   ]
  },
  {
   "cell_type": "code",
   "execution_count": 24,
   "metadata": {},
   "outputs": [
    {
     "name": "stderr",
     "output_type": "stream",
     "text": [
      "                                                                                \r"
     ]
    },
    {
     "data": {
      "text/html": [
       "<div>\n",
       "<style scoped>\n",
       "    .dataframe tbody tr th:only-of-type {\n",
       "        vertical-align: middle;\n",
       "    }\n",
       "\n",
       "    .dataframe tbody tr th {\n",
       "        vertical-align: top;\n",
       "    }\n",
       "\n",
       "    .dataframe thead th {\n",
       "        text-align: right;\n",
       "    }\n",
       "</style>\n",
       "<table border=\"1\" class=\"dataframe\">\n",
       "  <thead>\n",
       "    <tr style=\"text-align: right;\">\n",
       "      <th></th>\n",
       "      <th>label</th>\n",
       "      <th>prediction</th>\n",
       "    </tr>\n",
       "  </thead>\n",
       "  <tbody>\n",
       "    <tr>\n",
       "      <th>0</th>\n",
       "      <td>1.0</td>\n",
       "      <td>[0.544213593006134]</td>\n",
       "    </tr>\n",
       "    <tr>\n",
       "      <th>1</th>\n",
       "      <td>0.0</td>\n",
       "      <td>[0.5433858036994934]</td>\n",
       "    </tr>\n",
       "    <tr>\n",
       "      <th>2</th>\n",
       "      <td>1.0</td>\n",
       "      <td>[0.5444167852401733]</td>\n",
       "    </tr>\n",
       "    <tr>\n",
       "      <th>3</th>\n",
       "      <td>1.0</td>\n",
       "      <td>[0.5443340539932251]</td>\n",
       "    </tr>\n",
       "    <tr>\n",
       "      <th>4</th>\n",
       "      <td>1.0</td>\n",
       "      <td>[0.545165479183197]</td>\n",
       "    </tr>\n",
       "    <tr>\n",
       "      <th>5</th>\n",
       "      <td>0.0</td>\n",
       "      <td>[0.5433814525604248]</td>\n",
       "    </tr>\n",
       "    <tr>\n",
       "      <th>6</th>\n",
       "      <td>1.0</td>\n",
       "      <td>[0.5502046346664429]</td>\n",
       "    </tr>\n",
       "    <tr>\n",
       "      <th>7</th>\n",
       "      <td>1.0</td>\n",
       "      <td>[0.5453768968582153]</td>\n",
       "    </tr>\n",
       "    <tr>\n",
       "      <th>8</th>\n",
       "      <td>0.0</td>\n",
       "      <td>[0.5428350567817688]</td>\n",
       "    </tr>\n",
       "    <tr>\n",
       "      <th>9</th>\n",
       "      <td>1.0</td>\n",
       "      <td>[0.5460066795349121]</td>\n",
       "    </tr>\n",
       "  </tbody>\n",
       "</table>\n",
       "</div>"
      ],
      "text/plain": [
       "   label            prediction\n",
       "0    1.0   [0.544213593006134]\n",
       "1    0.0  [0.5433858036994934]\n",
       "2    1.0  [0.5444167852401733]\n",
       "3    1.0  [0.5443340539932251]\n",
       "4    1.0   [0.545165479183197]\n",
       "5    0.0  [0.5433814525604248]\n",
       "6    1.0  [0.5502046346664429]\n",
       "7    1.0  [0.5453768968582153]\n",
       "8    0.0  [0.5428350567817688]\n",
       "9    1.0  [0.5460066795349121]"
      ]
     },
     "execution_count": 24,
     "metadata": {},
     "output_type": "execute_result"
    },
    {
     "name": "stderr",
     "output_type": "stream",
     "text": [
      "[Stage 25:=============================================>            (7 + 2) / 9]\r"
     ]
    }
   ],
   "source": [
    "prediction = fitted_pipeline.transform(testData.sample(fraction=0.01))\n",
    "pnl = prediction.select(\"label\", \"prediction\")\n",
    "pnl.limit(10).toPandas()"
   ]
  },
  {
   "cell_type": "code",
   "execution_count": 25,
   "metadata": {},
   "outputs": [],
   "source": [
    "label_and_preds = prediction.rdd.map(lambda row: (row['label'], row['prediction'][0]))"
   ]
  },
  {
   "cell_type": "code",
   "execution_count": 26,
   "metadata": {},
   "outputs": [
    {
     "name": "stderr",
     "output_type": "stream",
     "text": [
      "2021-12-23 14:20:25.688655: I tensorflow/core/platform/cpu_feature_guard.cc:151] This TensorFlow binary is optimized with oneAPI Deep Neural Network Library (oneDNN) to use the following CPU instructions in performance-critical operations:  AVX2 AVX512F FMA\n",
      "To enable them in other operations, rebuild TensorFlow with the appropriate compiler flags.\n",
      "2021-12-23 14:20:28.579274: I tensorflow/core/platform/cpu_feature_guard.cc:151] This TensorFlow binary is optimized with oneAPI Deep Neural Network Library (oneDNN) to use the following CPU instructions in performance-critical operations:  AVX2 AVX512F FMA\n",
      "To enable them in other operations, rebuild TensorFlow with the appropriate compiler flags.\n",
      "2021-12-23 14:20:28.639464: I tensorflow/core/platform/cpu_feature_guard.cc:151] This TensorFlow binary is optimized with oneAPI Deep Neural Network Library (oneDNN) to use the following CPU instructions in performance-critical operations:  AVX2 AVX512F FMA\n",
      "To enable them in other operations, rebuild TensorFlow with the appropriate compiler flags.\n",
      "2021-12-23 14:20:28.994874: I tensorflow/core/platform/cpu_feature_guard.cc:151] This TensorFlow binary is optimized with oneAPI Deep Neural Network Library (oneDNN) to use the following CPU instructions in performance-critical operations:  AVX2 AVX512F FMA\n",
      "To enable them in other operations, rebuild TensorFlow with the appropriate compiler flags.\n",
      "2021-12-23 14:20:29.053423: I tensorflow/core/platform/cpu_feature_guard.cc:151] This TensorFlow binary is optimized with oneAPI Deep Neural Network Library (oneDNN) to use the following CPU instructions in performance-critical operations:  AVX2 AVX512F FMA\n",
      "To enable them in other operations, rebuild TensorFlow with the appropriate compiler flags.\n",
      "2021-12-23 14:20:29.352374: I tensorflow/core/platform/cpu_feature_guard.cc:151] This TensorFlow binary is optimized with oneAPI Deep Neural Network Library (oneDNN) to use the following CPU instructions in performance-critical operations:  AVX2 AVX512F FMA\n",
      "To enable them in other operations, rebuild TensorFlow with the appropriate compiler flags.\n",
      "                                                                                \r"
     ]
    },
    {
     "data": {
      "text/plain": [
       "0.0"
      ]
     },
     "execution_count": 26,
     "metadata": {},
     "output_type": "execute_result"
    },
    {
     "name": "stderr",
     "output_type": "stream",
     "text": [
      "[Stage 25:=============================================>            (7 + 2) / 9]\r"
     ]
    }
   ],
   "source": [
    "MulticlassMetrics(label_and_preds).accuracy"
   ]
  },
  {
   "cell_type": "markdown",
   "metadata": {},
   "source": [
    "<hr>"
   ]
  },
  {
   "cell_type": "markdown",
   "metadata": {},
   "source": [
    "## Neural networks with Keras & Pandas"
   ]
  },
  {
   "cell_type": "code",
   "execution_count": 53,
   "metadata": {},
   "outputs": [],
   "source": [
    "N = 500000"
   ]
  },
  {
   "cell_type": "code",
   "execution_count": 55,
   "metadata": {},
   "outputs": [],
   "source": [
    "import numpy as np\n",
    "\n",
    "df = pd.read_parquet('data/4_processed')[:N]\n",
    "df['expanded'] = df['features'].apply(pd.Series)['values']\n",
    "arr = np.array(df.expanded.tolist())\n",
    "res_df = pd.DataFrame(columns=feature_cols)\n",
    "res_df[res_df.columns] = arr"
   ]
  },
  {
   "cell_type": "code",
   "execution_count": 57,
   "metadata": {},
   "outputs": [],
   "source": [
    "y = df['label']\n",
    "X = res_df"
   ]
  },
  {
   "cell_type": "code",
   "execution_count": 58,
   "metadata": {},
   "outputs": [],
   "source": [
    "from sklearn.model_selection import train_test_split as tts\n",
    "X_train, X_test, y_train, y_test = tts(X, y, test_size=0.3)"
   ]
  },
  {
   "cell_type": "code",
   "execution_count": 60,
   "metadata": {},
   "outputs": [
    {
     "name": "stdout",
     "output_type": "stream",
     "text": [
      "Epoch 1/25\n",
      "10938/10938 [==============================] - 16s 1ms/step - loss: 0.6786 - val_loss: 0.5432\n",
      "Epoch 2/25\n",
      "10938/10938 [==============================] - 15s 1ms/step - loss: 0.5623 - val_loss: 0.5369\n",
      "Epoch 3/25\n",
      "10938/10938 [==============================] - 16s 1ms/step - loss: 0.5525 - val_loss: 0.5149\n",
      "Epoch 4/25\n",
      "10938/10938 [==============================] - 14s 1ms/step - loss: 0.5425 - val_loss: 0.5267\n",
      "Epoch 5/25\n",
      "10938/10938 [==============================] - 15s 1ms/step - loss: 0.5387 - val_loss: 0.5418\n",
      "Epoch 6/25\n",
      "10938/10938 [==============================] - 14s 1ms/step - loss: 0.5377 - val_loss: 0.5601\n",
      "Epoch 7/25\n",
      "10938/10938 [==============================] - 15s 1ms/step - loss: 0.5354 - val_loss: 0.5267\n",
      "Epoch 8/25\n",
      "10938/10938 [==============================] - 15s 1ms/step - loss: 0.5334 - val_loss: 0.5178\n"
     ]
    }
   ],
   "source": [
    "model = Sequential([\n",
    "    Dense(64, activation=\"relu\", input_shape=(input_dim,)),\n",
    "    Dropout(0.4),\n",
    "\n",
    "    Dense(32, activation=\"relu\"),\n",
    "    Dropout(0.2),\n",
    "    \n",
    "    Dense(1, activation=\"sigmoid\"),\n",
    "])\n",
    "\n",
    "model.compile(loss=\"binary_crossentropy\", optimizer=\"adam\")\n",
    "adam = optimizers.Adam(lr=0.01)\n",
    "adam_conf = optimizers.serialize(adam)\n",
    "es = EarlyStopping(patience=5, restore_best_weights=True)\n",
    "\n",
    "history = model.fit(X_train, y_train, validation_data=[X_test, y_test], epochs=25, callbacks=[es])"
   ]
  },
  {
   "cell_type": "code",
   "execution_count": 61,
   "metadata": {},
   "outputs": [
    {
     "data": {
      "text/plain": [
       "<AxesSubplot:>"
      ]
     },
     "execution_count": 61,
     "metadata": {},
     "output_type": "execute_result"
    },
    {
     "data": {
      "image/png": "[encoded data removed]",
      "text/plain": [
       "<Figure size 432x288 with 1 Axes>"
      ]
     },
     "metadata": {
      "needs_background": "light"
     },
     "output_type": "display_data"
    }
   ],
   "source": [
    "pd.DataFrame(history.history).plot()"
   ]
  },
  {
   "cell_type": "code",
   "execution_count": 62,
   "metadata": {},
   "outputs": [
    {
     "data": {
      "text/plain": [
       "0.7577933333333333"
      ]
     },
     "execution_count": 62,
     "metadata": {},
     "output_type": "execute_result"
    }
   ],
   "source": [
    "preds = model.predict(X_test)\n",
    "from sklearn.metrics import accuracy_score as acc\n",
    "acc(y_test, np.round(preds))"
   ]
  },
  {
   "cell_type": "code",
   "execution_count": null,
   "metadata": {},
   "outputs": [],
   "source": []
  }
 ],
 "metadata": {
  "interpreter": {
   "hash": "640009e82ad6d4e631cbdf10bf0c7af17dadd7f435ecc934f544f2dace7fbcc0"
  },
  "kernelspec": {
   "display_name": "Python 3.9.5 64-bit",
   "name": "python3"
  },
  "language_info": {
   "codemirror_mode": {
    "name": "ipython",
    "version": 3
   },
   "file_extension": ".py",
   "mimetype": "text/x-python",
   "name": "python",
   "nbconvert_exporter": "python",
   "pygments_lexer": "ipython3",
   "version": "3.10.0"
  },
  "orig_nbformat": 4
 },
 "nbformat": 4,
 "nbformat_minor": 2
}
