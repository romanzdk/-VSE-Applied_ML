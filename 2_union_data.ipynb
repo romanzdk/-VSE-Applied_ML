{
 "cells": [
  {
   "cell_type": "code",
   "execution_count": 2,
   "metadata": {},
   "outputs": [],
   "source": [
    "from pyspark.sql import SparkSession\n",
    "import os"
   ]
  },
  {
   "cell_type": "code",
   "execution_count": 3,
   "metadata": {},
   "outputs": [
    {
     "name": "stderr",
     "output_type": "stream",
     "text": [
      "21/12/22 12:15:56 WARN Utils: Your hostname, macusers-MacBook-Pro.local resolves to a loopback address: 127.0.0.1; using 192.168.0.131 instead (on interface en0)\n",
      "21/12/22 12:15:56 WARN Utils: Set SPARK_LOCAL_IP if you need to bind to another address\n",
      "WARNING: An illegal reflective access operation has occurred\n",
      "WARNING: Illegal reflective access by org.apache.spark.unsafe.Platform (file:/Volumes/GoogleDrive/My%20Drive/_VSE/_MGR/3sem/3_4IT574_Prakticke%20aplikace%20strojoveho%20uceni/-VSE-Applied_ML/venv/lib/python3.10/site-packages/pyspark/jars/spark-unsafe_2.12-3.2.0.jar) to constructor java.nio.DirectByteBuffer(long,int)\n",
      "WARNING: Please consider reporting this to the maintainers of org.apache.spark.unsafe.Platform\n",
      "WARNING: Use --illegal-access=warn to enable warnings of further illegal reflective access operations\n",
      "WARNING: All illegal access operations will be denied in a future release\n",
      "Using Spark's default log4j profile: org/apache/spark/log4j-defaults.properties\n",
      "Setting default log level to \"WARN\".\n",
      "To adjust logging level use sc.setLogLevel(newLevel). For SparkR, use setLogLevel(newLevel).\n",
      "21/12/22 12:15:57 WARN NativeCodeLoader: Unable to load native-hadoop library for your platform... using builtin-java classes where applicable\n",
      "21/12/22 12:15:58 WARN Utils: Service 'SparkUI' could not bind on port 4040. Attempting port 4041.\n"
     ]
    }
   ],
   "source": [
    "spark = SparkSession.builder.appName(\"elo_app\").getOrCreate();\n"
   ]
  },
  {
   "cell_type": "code",
   "execution_count": 4,
   "metadata": {},
   "outputs": [
    {
     "name": "stderr",
     "output_type": "stream",
     "text": [
      "                                                                                \r"
     ]
    },
    {
     "data": {
      "text/html": [
       "<div>\n",
       "<style scoped>\n",
       "    .dataframe tbody tr th:only-of-type {\n",
       "        vertical-align: middle;\n",
       "    }\n",
       "\n",
       "    .dataframe tbody tr th {\n",
       "        vertical-align: top;\n",
       "    }\n",
       "\n",
       "    .dataframe thead th {\n",
       "        text-align: right;\n",
       "    }\n",
       "</style>\n",
       "<table border=\"1\" class=\"dataframe\">\n",
       "  <thead>\n",
       "    <tr style=\"text-align: right;\">\n",
       "      <th></th>\n",
       "      <th>Hráč</th>\n",
       "      <th>Oddíl</th>\n",
       "      <th>Družstvo</th>\n",
       "      <th>Soupeř</th>\n",
       "      <th>Oddíl soupeř</th>\n",
       "      <th>Družstvo soupeř</th>\n",
       "      <th>Výsledek</th>\n",
       "      <th>Datum zápasu</th>\n",
       "      <th>Soutěž</th>\n",
       "      <th>Elo hráče</th>\n",
       "      <th>...</th>\n",
       "      <th>Elo (max)</th>\n",
       "      <th>Elo soupeře</th>\n",
       "      <th>Elo (min) soupeře</th>\n",
       "      <th>Elo (max) soupeře</th>\n",
       "      <th>Rok narození</th>\n",
       "      <th>Max elo</th>\n",
       "      <th>Elo nejlepšího poraženého soupeře</th>\n",
       "      <th>ID Hráč</th>\n",
       "      <th>ID Soupeř</th>\n",
       "      <th>Rok narození soupeř</th>\n",
       "    </tr>\n",
       "  </thead>\n",
       "  <tbody>\n",
       "    <tr>\n",
       "      <th>0</th>\n",
       "      <td>Milan Radil</td>\n",
       "      <td>Tělocvičná jednota Sokol Michle</td>\n",
       "      <td>TJ Sokol Michle E</td>\n",
       "      <td>Arnošt Bratka</td>\n",
       "      <td>Sportovní klub Slivenec</td>\n",
       "      <td>SK Slivenec A</td>\n",
       "      <td>3:2</td>\n",
       "      <td>8.12.2021</td>\n",
       "      <td>3. třída B</td>\n",
       "      <td>1470-&gt; 1474</td>\n",
       "      <td>...</td>\n",
       "      <td>1482-&gt; 1486</td>\n",
       "      <td>1403-&gt; 1399</td>\n",
       "      <td>1382-&gt; 1379</td>\n",
       "      <td>1417-&gt; 1413</td>\n",
       "      <td>1951</td>\n",
       "      <td>1572</td>\n",
       "      <td>1709</td>\n",
       "      <td>/st/hrac/radil_milan_1951</td>\n",
       "      <td>bratka_arnost_1950</td>\n",
       "      <td>1950</td>\n",
       "    </tr>\n",
       "    <tr>\n",
       "      <th>1</th>\n",
       "      <td>Milan Radil</td>\n",
       "      <td>Tělocvičná jednota Sokol Michle</td>\n",
       "      <td>TJ Sokol Michle E</td>\n",
       "      <td>František Kop</td>\n",
       "      <td>Sportovní klub Slivenec</td>\n",
       "      <td>SK Slivenec A</td>\n",
       "      <td>3:0</td>\n",
       "      <td>8.12.2021</td>\n",
       "      <td>3. třída B</td>\n",
       "      <td>1465-&gt; 1470</td>\n",
       "      <td>...</td>\n",
       "      <td>1478-&gt; 1482</td>\n",
       "      <td>1396-&gt; 1392</td>\n",
       "      <td>1385-&gt; 1381</td>\n",
       "      <td>1408-&gt; 1404</td>\n",
       "      <td>1951</td>\n",
       "      <td>1572</td>\n",
       "      <td>1709</td>\n",
       "      <td>/st/hrac/radil_milan_1951</td>\n",
       "      <td>kop_frantisek_1968</td>\n",
       "      <td>1968</td>\n",
       "    </tr>\n",
       "    <tr>\n",
       "      <th>2</th>\n",
       "      <td>Milan Radil</td>\n",
       "      <td>Tělocvičná jednota Sokol Michle</td>\n",
       "      <td>TJ Sokol Michle E</td>\n",
       "      <td>Alois Pospíšil</td>\n",
       "      <td>Sportovní klub Slivenec</td>\n",
       "      <td>SK Slivenec A</td>\n",
       "      <td>0:3</td>\n",
       "      <td>8.12.2021</td>\n",
       "      <td>3. třída B</td>\n",
       "      <td>1469-&gt; 1465</td>\n",
       "      <td>...</td>\n",
       "      <td>1482-&gt; 1478</td>\n",
       "      <td>1531-&gt; 1536</td>\n",
       "      <td>1515-&gt; 1520</td>\n",
       "      <td>1548-&gt; 1552</td>\n",
       "      <td>1951</td>\n",
       "      <td>1572</td>\n",
       "      <td>1709</td>\n",
       "      <td>/st/hrac/radil_milan_1951</td>\n",
       "      <td>pospisil_alois_1957</td>\n",
       "      <td>1957</td>\n",
       "    </tr>\n",
       "    <tr>\n",
       "      <th>3</th>\n",
       "      <td>Milan Radil</td>\n",
       "      <td>Tělocvičná jednota Sokol Michle</td>\n",
       "      <td>TJ Sokol Michle E</td>\n",
       "      <td>Patrik Schauer</td>\n",
       "      <td>Sportovní klub Slivenec</td>\n",
       "      <td>SK Slivenec A</td>\n",
       "      <td>3:1</td>\n",
       "      <td>8.12.2021</td>\n",
       "      <td>3. třída B</td>\n",
       "      <td>1464-&gt; 1469</td>\n",
       "      <td>...</td>\n",
       "      <td>1477-&gt; 1482</td>\n",
       "      <td>1422-&gt; 1417</td>\n",
       "      <td>1400-&gt; 1396</td>\n",
       "      <td>1435-&gt; 1430</td>\n",
       "      <td>1951</td>\n",
       "      <td>1572</td>\n",
       "      <td>1709</td>\n",
       "      <td>/st/hrac/radil_milan_1951</td>\n",
       "      <td>schauer_patrik_1975</td>\n",
       "      <td>1975</td>\n",
       "    </tr>\n",
       "    <tr>\n",
       "      <th>4</th>\n",
       "      <td>Milan Radil</td>\n",
       "      <td>Tělocvičná jednota Sokol Michle</td>\n",
       "      <td>TJ Sokol Michle E</td>\n",
       "      <td>Lukáš Moravec</td>\n",
       "      <td>TTC Praha - klub stolního tenisu, z.s.</td>\n",
       "      <td>TTC Praha A</td>\n",
       "      <td>3:1</td>\n",
       "      <td>2.12.2021</td>\n",
       "      <td>3. třída B</td>\n",
       "      <td>1458-&gt; 1464</td>\n",
       "      <td>...</td>\n",
       "      <td>1471-&gt; 1477</td>\n",
       "      <td>1444-&gt; 1439</td>\n",
       "      <td>1425-&gt; 1420</td>\n",
       "      <td>1456-&gt; 1450</td>\n",
       "      <td>1951</td>\n",
       "      <td>1572</td>\n",
       "      <td>1709</td>\n",
       "      <td>/st/hrac/radil_milan_1951</td>\n",
       "      <td>moravec_lukas_1989</td>\n",
       "      <td>1989</td>\n",
       "    </tr>\n",
       "  </tbody>\n",
       "</table>\n",
       "<p>5 rows × 21 columns</p>\n",
       "</div>"
      ],
      "text/plain": [
       "          Hráč                             Oddíl            Družstvo  \\\n",
       "0  Milan Radil   Tělocvičná jednota Sokol Michle   TJ Sokol Michle E   \n",
       "1  Milan Radil   Tělocvičná jednota Sokol Michle   TJ Sokol Michle E   \n",
       "2  Milan Radil   Tělocvičná jednota Sokol Michle   TJ Sokol Michle E   \n",
       "3  Milan Radil   Tělocvičná jednota Sokol Michle   TJ Sokol Michle E   \n",
       "4  Milan Radil   Tělocvičná jednota Sokol Michle   TJ Sokol Michle E   \n",
       "\n",
       "           Soupeř                             Oddíl soupeř Družstvo soupeř  \\\n",
       "0   Arnošt Bratka                  Sportovní klub Slivenec   SK Slivenec A   \n",
       "1   František Kop                  Sportovní klub Slivenec   SK Slivenec A   \n",
       "2  Alois Pospíšil                  Sportovní klub Slivenec   SK Slivenec A   \n",
       "3  Patrik Schauer                  Sportovní klub Slivenec   SK Slivenec A   \n",
       "4   Lukáš Moravec   TTC Praha - klub stolního tenisu, z.s.     TTC Praha A   \n",
       "\n",
       "  Výsledek  Datum zápasu      Soutěž    Elo hráče  ...    Elo (max)  \\\n",
       "0     3:2     8.12.2021   3. třída B  1470-> 1474  ...  1482-> 1486   \n",
       "1     3:0     8.12.2021   3. třída B  1465-> 1470  ...  1478-> 1482   \n",
       "2     0:3     8.12.2021   3. třída B  1469-> 1465  ...  1482-> 1478   \n",
       "3     3:1     8.12.2021   3. třída B  1464-> 1469  ...  1477-> 1482   \n",
       "4     3:1     2.12.2021   3. třída B  1458-> 1464  ...  1471-> 1477   \n",
       "\n",
       "   Elo soupeře Elo (min) soupeře Elo (max) soupeře Rok narození Max elo  \\\n",
       "0  1403-> 1399       1382-> 1379       1417-> 1413         1951    1572   \n",
       "1  1396-> 1392       1385-> 1381       1408-> 1404         1951    1572   \n",
       "2  1531-> 1536       1515-> 1520       1548-> 1552         1951    1572   \n",
       "3  1422-> 1417       1400-> 1396       1435-> 1430         1951    1572   \n",
       "4  1444-> 1439       1425-> 1420       1456-> 1450         1951    1572   \n",
       "\n",
       "   Elo nejlepšího poraženého soupeře                    ID Hráč  \\\n",
       "0                               1709  /st/hrac/radil_milan_1951   \n",
       "1                               1709  /st/hrac/radil_milan_1951   \n",
       "2                               1709  /st/hrac/radil_milan_1951   \n",
       "3                               1709  /st/hrac/radil_milan_1951   \n",
       "4                               1709  /st/hrac/radil_milan_1951   \n",
       "\n",
       "             ID Soupeř Rok narození soupeř  \n",
       "0   bratka_arnost_1950                1950  \n",
       "1   kop_frantisek_1968                1968  \n",
       "2  pospisil_alois_1957                1957  \n",
       "3  schauer_patrik_1975                1975  \n",
       "4   moravec_lukas_1989                1989  \n",
       "\n",
       "[5 rows x 21 columns]"
      ]
     },
     "execution_count": 4,
     "metadata": {},
     "output_type": "execute_result"
    }
   ],
   "source": [
    "# read multiple csvs\n",
    "df = spark.read.csv(os.getcwd() + '/data/1_raw_checkpoints', header=True, inferSchema=True)\n",
    "df = df.drop(\"_c0\")\n",
    "df.limit(5).toPandas()"
   ]
  },
  {
   "cell_type": "code",
   "execution_count": 6,
   "metadata": {},
   "outputs": [
    {
     "name": "stderr",
     "output_type": "stream",
     "text": [
      "                                                                                \r"
     ]
    }
   ],
   "source": [
    "# output sample for EDA\n",
    "df.sample(False, 0.01, seed=0).toPandas().to_csv(\"data/2_data_sample.csv\")"
   ]
  },
  {
   "cell_type": "code",
   "execution_count": 6,
   "metadata": {},
   "outputs": [
    {
     "name": "stderr",
     "output_type": "stream",
     "text": [
      "                                                                                \r"
     ]
    }
   ],
   "source": [
    "# output compressed one\n",
    "df.write.csv(r'/Users/romanzdk/Documents/2_raw_unioned.csv.gz', compression=\"gzip\", header=True)"
   ]
  },
  {
   "cell_type": "code",
   "execution_count": null,
   "metadata": {},
   "outputs": [],
   "source": []
  },
  {
   "cell_type": "markdown",
   "metadata": {},
   "source": [
    "# Try with pandas"
   ]
  },
  {
   "cell_type": "code",
   "execution_count": null,
   "metadata": {},
   "outputs": [],
   "source": [
    "# import pandas as pd\n",
    "# import glob\n",
    "# import os\n",
    "\n",
    "# path = os.getcwd() + '\\\\data\\\\1_raw_checkpoints' # use your path\n",
    "# all_files = glob.glob(path + \"\\\\*.csv\")\n",
    "\n",
    "# li = []\n",
    "\n",
    "# for filename in all_files:\n",
    "#     df = pd.read_csv(filename, index_col=None, header=0)\n",
    "#     li.append(df)\n",
    "\n",
    "# frame = pd.concat(li, axis=0, ignore_index=True)"
   ]
  },
  {
   "cell_type": "code",
   "execution_count": null,
   "metadata": {},
   "outputs": [],
   "source": [
    "# frame.to_csv('data/1_unioned.csv')"
   ]
  }
 ],
 "metadata": {
  "interpreter": {
   "hash": "fb1f6dd8d054ce5fcb63d89ec66ef63b21e1c7042fa693cda333223dee113232"
  },
  "kernelspec": {
   "display_name": "Python 3 (ipykernel)",
   "language": "python",
   "name": "python3"
  },
  "language_info": {
   "codemirror_mode": {
    "name": "ipython",
    "version": 3
   },
   "file_extension": ".py",
   "mimetype": "text/x-python",
   "name": "python",
   "nbconvert_exporter": "python",
   "pygments_lexer": "ipython3",
   "version": "3.10.0"
  }
 },
 "nbformat": 4,
 "nbformat_minor": 2
}
