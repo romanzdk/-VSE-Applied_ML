{
 "cells": [
  {
   "cell_type": "code",
   "execution_count": 31,
   "metadata": {},
   "outputs": [],
   "source": [
    "from pyspark.sql import SparkSession\n",
    "import os"
   ]
  },
  {
   "cell_type": "code",
   "execution_count": 32,
   "metadata": {},
   "outputs": [],
   "source": [
    "spark = SparkSession.builder.appName(\"elo_app\").getOrCreate();\n"
   ]
  },
  {
   "cell_type": "code",
   "execution_count": 38,
   "metadata": {},
   "outputs": [
    {
     "name": "stderr",
     "output_type": "stream",
     "text": [
      "                                                                                \r"
     ]
    },
    {
     "data": {
      "text/html": [
       "<div>\n",
       "<style scoped>\n",
       "    .dataframe tbody tr th:only-of-type {\n",
       "        vertical-align: middle;\n",
       "    }\n",
       "\n",
       "    .dataframe tbody tr th {\n",
       "        vertical-align: top;\n",
       "    }\n",
       "\n",
       "    .dataframe thead th {\n",
       "        text-align: right;\n",
       "    }\n",
       "</style>\n",
       "<table border=\"1\" class=\"dataframe\">\n",
       "  <thead>\n",
       "    <tr style=\"text-align: right;\">\n",
       "      <th></th>\n",
       "      <th>Hráč</th>\n",
       "      <th>Oddíl</th>\n",
       "      <th>Družstvo</th>\n",
       "      <th>Soupeř</th>\n",
       "      <th>Oddíl soupeř</th>\n",
       "      <th>Družstvo soupeř</th>\n",
       "      <th>Výsledek</th>\n",
       "      <th>Datum zápasu</th>\n",
       "      <th>Soutěž</th>\n",
       "      <th>Elo hráče</th>\n",
       "      <th>...</th>\n",
       "      <th>Elo (max)</th>\n",
       "      <th>Elo soupeře</th>\n",
       "      <th>Elo (min) soupeře</th>\n",
       "      <th>Elo (max) soupeře</th>\n",
       "      <th>Rok narození</th>\n",
       "      <th>Max elo</th>\n",
       "      <th>Elo nejlepšího poraženého soupeře</th>\n",
       "      <th>ID Hráč</th>\n",
       "      <th>ID Soupeř</th>\n",
       "      <th>Rok narození soupeř</th>\n",
       "    </tr>\n",
       "  </thead>\n",
       "  <tbody>\n",
       "    <tr>\n",
       "      <th>0</th>\n",
       "      <td>Tomáš Tregler</td>\n",
       "      <td>HB Ostrov , z.s.</td>\n",
       "      <td>HB Ostrov H.Brod</td>\n",
       "      <td>Tomáš Martinko</td>\n",
       "      <td>Tělovýchovná jednota Ostrava</td>\n",
       "      <td>TJ Ostrava KST</td>\n",
       "      <td>0:3</td>\n",
       "      <td>26.11.2021</td>\n",
       "      <td>Extraliga mužů</td>\n",
       "      <td>2454-&gt; 2444</td>\n",
       "      <td>...</td>\n",
       "      <td>2482-&gt; 2470</td>\n",
       "      <td>2306-&gt; 2318</td>\n",
       "      <td>2289-&gt; 2301</td>\n",
       "      <td>2327-&gt; 2338</td>\n",
       "      <td>1990</td>\n",
       "      <td>2458</td>\n",
       "      <td>2446</td>\n",
       "      <td>/st/hrac/tregler_tomas_1990</td>\n",
       "      <td>martinko_tomas_2002</td>\n",
       "      <td>2002</td>\n",
       "    </tr>\n",
       "    <tr>\n",
       "      <th>1</th>\n",
       "      <td>Tomáš Tregler</td>\n",
       "      <td>HB Ostrov , z.s.</td>\n",
       "      <td>HB Ostrov H.Brod</td>\n",
       "      <td>Patrik Klos</td>\n",
       "      <td>Tělovýchovná jednota Ostrava</td>\n",
       "      <td>TJ Ostrava KST</td>\n",
       "      <td>3:1</td>\n",
       "      <td>26.11.2021</td>\n",
       "      <td>Extraliga mužů</td>\n",
       "      <td>2452-&gt; 2454</td>\n",
       "      <td>...</td>\n",
       "      <td>2480-&gt; 2482</td>\n",
       "      <td>2317-&gt; 2315</td>\n",
       "      <td>2300-&gt; 2299</td>\n",
       "      <td>2343-&gt; 2341</td>\n",
       "      <td>1990</td>\n",
       "      <td>2458</td>\n",
       "      <td>2446</td>\n",
       "      <td>/st/hrac/tregler_tomas_1990</td>\n",
       "      <td>klos_patrik_1998</td>\n",
       "      <td>1998</td>\n",
       "    </tr>\n",
       "    <tr>\n",
       "      <th>2</th>\n",
       "      <td>Tomáš Tregler</td>\n",
       "      <td>HB Ostrov , z.s.</td>\n",
       "      <td>HB Ostrov H.Brod</td>\n",
       "      <td>David Reitšpies</td>\n",
       "      <td>SKST Cheb</td>\n",
       "      <td>SKST Cheb</td>\n",
       "      <td>1:3</td>\n",
       "      <td>11.11.2021</td>\n",
       "      <td>Extraliga mužů</td>\n",
       "      <td>2458-&gt; 2452</td>\n",
       "      <td>...</td>\n",
       "      <td>2485-&gt; 2479</td>\n",
       "      <td>2409-&gt; 2419</td>\n",
       "      <td>2356-&gt; 2380</td>\n",
       "      <td>2476-&gt; 2484</td>\n",
       "      <td>1990</td>\n",
       "      <td>2458</td>\n",
       "      <td>2446</td>\n",
       "      <td>/st/hrac/tregler_tomas_1990</td>\n",
       "      <td>reitspies_david_1996</td>\n",
       "      <td>1996</td>\n",
       "    </tr>\n",
       "    <tr>\n",
       "      <th>3</th>\n",
       "      <td>Tomáš Tregler</td>\n",
       "      <td>HB Ostrov , z.s.</td>\n",
       "      <td>HB Ostrov H.Brod</td>\n",
       "      <td>Stanislav Kučera</td>\n",
       "      <td>SKST Cheb</td>\n",
       "      <td>SKST Cheb</td>\n",
       "      <td>3:0</td>\n",
       "      <td>11.11.2021</td>\n",
       "      <td>Extraliga mužů</td>\n",
       "      <td>2454-&gt; 2458</td>\n",
       "      <td>...</td>\n",
       "      <td>2482-&gt; 2485</td>\n",
       "      <td>2380-&gt; 2377</td>\n",
       "      <td>2339-&gt; 2337</td>\n",
       "      <td>2407-&gt; 2403</td>\n",
       "      <td>1990</td>\n",
       "      <td>2458</td>\n",
       "      <td>2446</td>\n",
       "      <td>/st/hrac/tregler_tomas_1990</td>\n",
       "      <td>kucera_stanislav_1997</td>\n",
       "      <td>1997</td>\n",
       "    </tr>\n",
       "    <tr>\n",
       "      <th>4</th>\n",
       "      <td>Tomáš Tregler</td>\n",
       "      <td>HB Ostrov , z.s.</td>\n",
       "      <td>HB Ostrov H.Brod</td>\n",
       "      <td>Martin Koblížek</td>\n",
       "      <td>Klub stolního tenisu KT Praha</td>\n",
       "      <td>KT Praha</td>\n",
       "      <td>3:0</td>\n",
       "      <td>5.11.2021</td>\n",
       "      <td>Extraliga mužů</td>\n",
       "      <td>2453-&gt; 2454</td>\n",
       "      <td>...</td>\n",
       "      <td>2482-&gt; 2482</td>\n",
       "      <td>2241-&gt; 2241</td>\n",
       "      <td>2215-&gt; 2215</td>\n",
       "      <td>2264-&gt; 2263</td>\n",
       "      <td>1990</td>\n",
       "      <td>2458</td>\n",
       "      <td>2446</td>\n",
       "      <td>/st/hrac/tregler_tomas_1990</td>\n",
       "      <td>koblizek_martin_1996</td>\n",
       "      <td>1996</td>\n",
       "    </tr>\n",
       "  </tbody>\n",
       "</table>\n",
       "<p>5 rows × 21 columns</p>\n",
       "</div>"
      ],
      "text/plain": [
       "            Hráč              Oddíl           Družstvo            Soupeř  \\\n",
       "0  Tomáš Tregler   HB Ostrov , z.s.   HB Ostrov H.Brod    Tomáš Martinko   \n",
       "1  Tomáš Tregler   HB Ostrov , z.s.   HB Ostrov H.Brod       Patrik Klos   \n",
       "2  Tomáš Tregler   HB Ostrov , z.s.   HB Ostrov H.Brod   David Reitšpies   \n",
       "3  Tomáš Tregler   HB Ostrov , z.s.   HB Ostrov H.Brod  Stanislav Kučera   \n",
       "4  Tomáš Tregler   HB Ostrov , z.s.   HB Ostrov H.Brod   Martin Koblížek   \n",
       "\n",
       "                     Oddíl soupeř  Družstvo soupeř Výsledek   Datum zápasu  \\\n",
       "0    Tělovýchovná jednota Ostrava   TJ Ostrava KST     0:3     26.11.2021    \n",
       "1    Tělovýchovná jednota Ostrava   TJ Ostrava KST     3:1     26.11.2021    \n",
       "2                       SKST Cheb        SKST Cheb     1:3     11.11.2021    \n",
       "3                       SKST Cheb        SKST Cheb     3:0     11.11.2021    \n",
       "4   Klub stolního tenisu KT Praha         KT Praha     3:0      5.11.2021    \n",
       "\n",
       "           Soutěž    Elo hráče  ...    Elo (max)  Elo soupeře  \\\n",
       "0  Extraliga mužů  2454-> 2444  ...  2482-> 2470  2306-> 2318   \n",
       "1  Extraliga mužů  2452-> 2454  ...  2480-> 2482  2317-> 2315   \n",
       "2  Extraliga mužů  2458-> 2452  ...  2485-> 2479  2409-> 2419   \n",
       "3  Extraliga mužů  2454-> 2458  ...  2482-> 2485  2380-> 2377   \n",
       "4  Extraliga mužů  2453-> 2454  ...  2482-> 2482  2241-> 2241   \n",
       "\n",
       "  Elo (min) soupeře Elo (max) soupeře Rok narození  Max elo  \\\n",
       "0       2289-> 2301       2327-> 2338         1990     2458   \n",
       "1       2300-> 2299       2343-> 2341         1990     2458   \n",
       "2       2356-> 2380       2476-> 2484         1990     2458   \n",
       "3       2339-> 2337       2407-> 2403         1990     2458   \n",
       "4       2215-> 2215       2264-> 2263         1990     2458   \n",
       "\n",
       "   Elo nejlepšího poraženého soupeře                      ID Hráč  \\\n",
       "0                               2446  /st/hrac/tregler_tomas_1990   \n",
       "1                               2446  /st/hrac/tregler_tomas_1990   \n",
       "2                               2446  /st/hrac/tregler_tomas_1990   \n",
       "3                               2446  /st/hrac/tregler_tomas_1990   \n",
       "4                               2446  /st/hrac/tregler_tomas_1990   \n",
       "\n",
       "               ID Soupeř Rok narození soupeř  \n",
       "0    martinko_tomas_2002                2002  \n",
       "1       klos_patrik_1998                1998  \n",
       "2   reitspies_david_1996                1996  \n",
       "3  kucera_stanislav_1997                1997  \n",
       "4   koblizek_martin_1996                1996  \n",
       "\n",
       "[5 rows x 21 columns]"
      ]
     },
     "execution_count": 38,
     "metadata": {},
     "output_type": "execute_result"
    }
   ],
   "source": [
    "# read multiple csvs\n",
    "df = spark.read.csv(os.getcwd() + '/data/1_raw_checkpoints/', header=True, inferSchema=True, quote='\\\"', escape='\\\"')\n",
    "df = df.drop(\"_c0\")\n",
    "df.limit(5).toPandas()"
   ]
  },
  {
   "cell_type": "code",
   "execution_count": 39,
   "metadata": {},
   "outputs": [
    {
     "name": "stderr",
     "output_type": "stream",
     "text": [
      "                                                                                \r"
     ]
    }
   ],
   "source": [
    "# output sample for EDA\n",
    "df.sample(False, 0.01, seed=0).toPandas().to_csv(\"data/2_data_sample.csv\")"
   ]
  },
  {
   "cell_type": "code",
   "execution_count": 40,
   "metadata": {},
   "outputs": [
    {
     "name": "stderr",
     "output_type": "stream",
     "text": [
      "                                                                                \r"
     ]
    }
   ],
   "source": [
    "# output compressed one\n",
    "df.write.csv('data/2_raw_unioned.csv.gz', compression=\"gzip\", header=True)"
   ]
  },
  {
   "cell_type": "code",
   "execution_count": null,
   "metadata": {},
   "outputs": [],
   "source": []
  },
  {
   "cell_type": "markdown",
   "metadata": {},
   "source": [
    "# Try with pandas"
   ]
  },
  {
   "cell_type": "code",
   "execution_count": null,
   "metadata": {},
   "outputs": [],
   "source": [
    "# import pandas as pd\n",
    "# import glob\n",
    "# import os\n",
    "\n",
    "# path = os.getcwd() + '\\\\data\\\\1_raw_checkpoints' # use your path\n",
    "# all_files = glob.glob(path + \"\\\\*.csv\")\n",
    "\n",
    "# li = []\n",
    "\n",
    "# for filename in all_files:\n",
    "#     df = pd.read_csv(filename, index_col=None, header=0)\n",
    "#     li.append(df)\n",
    "\n",
    "# frame = pd.concat(li, axis=0, ignore_index=True)"
   ]
  },
  {
   "cell_type": "code",
   "execution_count": null,
   "metadata": {},
   "outputs": [],
   "source": [
    "# frame.to_csv('data/1_unioned.csv')"
   ]
  }
 ],
 "metadata": {
  "interpreter": {
   "hash": "fb1f6dd8d054ce5fcb63d89ec66ef63b21e1c7042fa693cda333223dee113232"
  },
  "kernelspec": {
   "display_name": "Python 3 (ipykernel)",
   "language": "python",
   "name": "python3"
  },
  "language_info": {
   "codemirror_mode": {
    "name": "ipython",
    "version": 3
   },
   "file_extension": ".py",
   "mimetype": "text/x-python",
   "name": "python",
   "nbconvert_exporter": "python",
   "pygments_lexer": "ipython3",
   "version": "3.10.0"
  }
 },
 "nbformat": 4,
 "nbformat_minor": 2
}
