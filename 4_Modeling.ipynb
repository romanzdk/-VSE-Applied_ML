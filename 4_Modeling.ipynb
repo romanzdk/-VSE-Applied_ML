{
 "cells": [
  {
   "cell_type": "code",
   "execution_count": 1,
   "metadata": {},
   "outputs": [],
   "source": [
    "import pandas as pd\n",
    "import numpy as np\n",
    "from sklearn.model_selection import train_test_split, GridSearchCV\n",
    "from sklearn.metrics import accuracy_score as acc\n",
    "from tensorflow import keras\n",
    "from tensorflow.keras import Sequential\n",
    "from tensorflow.keras.layers import Dense, Dropout\n",
    "from tensorflow.keras.wrappers.scikit_learn import KerasClassifier\n",
    "from sklearn.pipeline import Pipeline"
   ]
  },
  {
   "cell_type": "code",
   "execution_count": 2,
   "metadata": {},
   "outputs": [
    {
     "data": {
      "text/html": [
       "<div>\n",
       "<style scoped>\n",
       "    .dataframe tbody tr th:only-of-type {\n",
       "        vertical-align: middle;\n",
       "    }\n",
       "\n",
       "    .dataframe tbody tr th {\n",
       "        vertical-align: top;\n",
       "    }\n",
       "\n",
       "    .dataframe thead th {\n",
       "        text-align: right;\n",
       "    }\n",
       "</style>\n",
       "<table border=\"1\" class=\"dataframe\">\n",
       "  <thead>\n",
       "    <tr style=\"text-align: right;\">\n",
       "      <th></th>\n",
       "      <th>Rok narození</th>\n",
       "      <th>Elo hráče před</th>\n",
       "      <th>Hráč je žena</th>\n",
       "      <th>Rok narození soupeř</th>\n",
       "      <th>Elo soupeře před</th>\n",
       "      <th>Soupeř je žena</th>\n",
       "      <th>Den v týdnu (číslo)</th>\n",
       "      <th>isWeekend</th>\n",
       "      <th>obdobi</th>\n",
       "    </tr>\n",
       "  </thead>\n",
       "  <tbody>\n",
       "    <tr>\n",
       "      <th>0</th>\n",
       "      <td>-0.000672</td>\n",
       "      <td>2.486573</td>\n",
       "      <td>0.0</td>\n",
       "      <td>-0.514703</td>\n",
       "      <td>1.348369</td>\n",
       "      <td>-0.205257</td>\n",
       "      <td>0.597241</td>\n",
       "      <td>1.127119</td>\n",
       "      <td>0.086303</td>\n",
       "    </tr>\n",
       "    <tr>\n",
       "      <th>1</th>\n",
       "      <td>-0.000672</td>\n",
       "      <td>2.486573</td>\n",
       "      <td>0.0</td>\n",
       "      <td>-0.031620</td>\n",
       "      <td>0.839073</td>\n",
       "      <td>-0.205257</td>\n",
       "      <td>0.597241</td>\n",
       "      <td>1.127119</td>\n",
       "      <td>0.086303</td>\n",
       "    </tr>\n",
       "    <tr>\n",
       "      <th>2</th>\n",
       "      <td>-0.000672</td>\n",
       "      <td>2.486573</td>\n",
       "      <td>0.0</td>\n",
       "      <td>-0.790751</td>\n",
       "      <td>0.333884</td>\n",
       "      <td>-0.205257</td>\n",
       "      <td>0.597241</td>\n",
       "      <td>1.127119</td>\n",
       "      <td>0.086303</td>\n",
       "    </tr>\n",
       "    <tr>\n",
       "      <th>3</th>\n",
       "      <td>-0.000672</td>\n",
       "      <td>2.481450</td>\n",
       "      <td>0.0</td>\n",
       "      <td>1.348619</td>\n",
       "      <td>1.175865</td>\n",
       "      <td>-0.205257</td>\n",
       "      <td>0.597241</td>\n",
       "      <td>1.127119</td>\n",
       "      <td>0.086303</td>\n",
       "    </tr>\n",
       "    <tr>\n",
       "      <th>4</th>\n",
       "      <td>-0.000672</td>\n",
       "      <td>2.481450</td>\n",
       "      <td>0.0</td>\n",
       "      <td>-1.549882</td>\n",
       "      <td>0.403706</td>\n",
       "      <td>-0.205257</td>\n",
       "      <td>0.597241</td>\n",
       "      <td>1.127119</td>\n",
       "      <td>0.086303</td>\n",
       "    </tr>\n",
       "    <tr>\n",
       "      <th>...</th>\n",
       "      <td>...</td>\n",
       "      <td>...</td>\n",
       "      <td>...</td>\n",
       "      <td>...</td>\n",
       "      <td>...</td>\n",
       "      <td>...</td>\n",
       "      <td>...</td>\n",
       "      <td>...</td>\n",
       "      <td>...</td>\n",
       "    </tr>\n",
       "    <tr>\n",
       "      <th>8232</th>\n",
       "      <td>-0.639696</td>\n",
       "      <td>-2.559642</td>\n",
       "      <td>0.0</td>\n",
       "      <td>-0.307667</td>\n",
       "      <td>-1.366508</td>\n",
       "      <td>-0.205257</td>\n",
       "      <td>-2.215493</td>\n",
       "      <td>-0.887218</td>\n",
       "      <td>1.053489</td>\n",
       "    </tr>\n",
       "    <tr>\n",
       "      <th>8233</th>\n",
       "      <td>-0.639696</td>\n",
       "      <td>-2.559642</td>\n",
       "      <td>0.0</td>\n",
       "      <td>1.693678</td>\n",
       "      <td>-5.917316</td>\n",
       "      <td>-0.205257</td>\n",
       "      <td>-0.527853</td>\n",
       "      <td>-0.887218</td>\n",
       "      <td>-1.848067</td>\n",
       "    </tr>\n",
       "    <tr>\n",
       "      <th>8234</th>\n",
       "      <td>-0.639696</td>\n",
       "      <td>-2.528904</td>\n",
       "      <td>0.0</td>\n",
       "      <td>-0.031620</td>\n",
       "      <td>-2.187954</td>\n",
       "      <td>-0.205257</td>\n",
       "      <td>-0.527853</td>\n",
       "      <td>-0.887218</td>\n",
       "      <td>-1.848067</td>\n",
       "    </tr>\n",
       "    <tr>\n",
       "      <th>8235</th>\n",
       "      <td>-0.639696</td>\n",
       "      <td>-2.528904</td>\n",
       "      <td>0.0</td>\n",
       "      <td>-0.583715</td>\n",
       "      <td>-5.917316</td>\n",
       "      <td>-0.205257</td>\n",
       "      <td>-0.527853</td>\n",
       "      <td>-0.887218</td>\n",
       "      <td>-1.848067</td>\n",
       "    </tr>\n",
       "    <tr>\n",
       "      <th>8236</th>\n",
       "      <td>-0.639696</td>\n",
       "      <td>-2.539150</td>\n",
       "      <td>0.0</td>\n",
       "      <td>1.693678</td>\n",
       "      <td>-2.635641</td>\n",
       "      <td>-0.205257</td>\n",
       "      <td>-0.527853</td>\n",
       "      <td>-0.887218</td>\n",
       "      <td>-1.848067</td>\n",
       "    </tr>\n",
       "  </tbody>\n",
       "</table>\n",
       "<p>8237 rows × 9 columns</p>\n",
       "</div>"
      ],
      "text/plain": [
       "      Rok narození  Elo hráče před  Hráč je žena  Rok narození soupeř  \\\n",
       "0        -0.000672        2.486573           0.0            -0.514703   \n",
       "1        -0.000672        2.486573           0.0            -0.031620   \n",
       "2        -0.000672        2.486573           0.0            -0.790751   \n",
       "3        -0.000672        2.481450           0.0             1.348619   \n",
       "4        -0.000672        2.481450           0.0            -1.549882   \n",
       "...            ...             ...           ...                  ...   \n",
       "8232     -0.639696       -2.559642           0.0            -0.307667   \n",
       "8233     -0.639696       -2.559642           0.0             1.693678   \n",
       "8234     -0.639696       -2.528904           0.0            -0.031620   \n",
       "8235     -0.639696       -2.528904           0.0            -0.583715   \n",
       "8236     -0.639696       -2.539150           0.0             1.693678   \n",
       "\n",
       "      Elo soupeře před  Soupeř je žena  Den v týdnu (číslo)  isWeekend  \\\n",
       "0             1.348369       -0.205257             0.597241   1.127119   \n",
       "1             0.839073       -0.205257             0.597241   1.127119   \n",
       "2             0.333884       -0.205257             0.597241   1.127119   \n",
       "3             1.175865       -0.205257             0.597241   1.127119   \n",
       "4             0.403706       -0.205257             0.597241   1.127119   \n",
       "...                ...             ...                  ...        ...   \n",
       "8232         -1.366508       -0.205257            -2.215493  -0.887218   \n",
       "8233         -5.917316       -0.205257            -0.527853  -0.887218   \n",
       "8234         -2.187954       -0.205257            -0.527853  -0.887218   \n",
       "8235         -5.917316       -0.205257            -0.527853  -0.887218   \n",
       "8236         -2.635641       -0.205257            -0.527853  -0.887218   \n",
       "\n",
       "        obdobi  \n",
       "0     0.086303  \n",
       "1     0.086303  \n",
       "2     0.086303  \n",
       "3     0.086303  \n",
       "4     0.086303  \n",
       "...        ...  \n",
       "8232  1.053489  \n",
       "8233 -1.848067  \n",
       "8234 -1.848067  \n",
       "8235 -1.848067  \n",
       "8236 -1.848067  \n",
       "\n",
       "[8237 rows x 9 columns]"
      ]
     },
     "execution_count": 2,
     "metadata": {},
     "output_type": "execute_result"
    }
   ],
   "source": [
    "y = pd.read_csv('data/3_y.csv')\n",
    "X = pd.read_csv(\"data/3_X.csv\")\n",
    "X"
   ]
  },
  {
   "cell_type": "code",
   "execution_count": 3,
   "metadata": {},
   "outputs": [],
   "source": [
    "x_train, x_test, y_train, y_test = train_test_split(X, y, test_size=0.2, random_state=42)"
   ]
  },
  {
   "cell_type": "markdown",
   "metadata": {},
   "source": [
    "# Scikit modely"
   ]
  },
  {
   "cell_type": "code",
   "execution_count": 4,
   "metadata": {},
   "outputs": [],
   "source": [
    "stages = []\n",
    "\n",
    "from sklearn.linear_model import LogisticRegression\n",
    "lr = LogisticRegression(solver='lbfgs', max_iter=10000)\n",
    "stages.append(lr)\n",
    "\n",
    "from sklearn.tree import DecisionTreeClassifier\n",
    "dt = DecisionTreeClassifier()\n",
    "stages.append(dt)\n",
    "\n",
    "from sklearn.ensemble import RandomForestClassifier\n",
    "rf = RandomForestClassifier()\n",
    "stages.append(rf)\n",
    "\n",
    "from sklearn.naive_bayes import GaussianNB\n",
    "nb = GaussianNB()\n",
    "stages.append(nb)\n",
    "\n",
    "from sklearn.neural_network import MLPClassifier\n",
    "mlp = MLPClassifier()\n",
    "stages.append(mlp)"
   ]
  },
  {
   "cell_type": "code",
   "execution_count": 28,
   "metadata": {},
   "outputs": [],
   "source": [
    "import warnings\n",
    "warnings.filterwarnings(\"ignore\")"
   ]
  },
  {
   "cell_type": "code",
   "execution_count": 29,
   "metadata": {},
   "outputs": [
    {
     "name": "stdout",
     "output_type": "stream",
     "text": [
      "<bound method BaseEstimator.__repr__ of LogisticRegression(max_iter=10000)>\n",
      "0.7633495145631068\n",
      "<bound method BaseEstimator.__repr__ of DecisionTreeClassifier()>\n",
      "0.6838592233009708\n",
      "<bound method BaseEstimator.__repr__ of RandomForestClassifier()>\n",
      "0.7402912621359223\n",
      "<bound method BaseEstimator.__repr__ of GaussianNB()>\n",
      "0.649878640776699\n",
      "<bound method BaseEstimator.__repr__ of MLPClassifier()>\n",
      "0.7591019417475728\n"
     ]
    }
   ],
   "source": [
    "for model in stages:\n",
    "    print(model.__repr__)\n",
    "    model.fit(x_train, y_train.values.ravel())\n",
    "    pred = model.predict(x_test)\n",
    "    print(acc(y_test, pred))"
   ]
  },
  {
   "cell_type": "markdown",
   "metadata": {},
   "source": [
    "Nejlepsich vysledku dosahla logisticka regrese, dale pokracujeme s ni"
   ]
  },
  {
   "cell_type": "markdown",
   "metadata": {},
   "source": [
    "# Scikit model tuning"
   ]
  },
  {
   "cell_type": "code",
   "execution_count": 7,
   "metadata": {},
   "outputs": [
    {
     "data": {
      "text/plain": [
       "GridSearchCV(error_score='raise',\n",
       "             estimator=LogisticRegression(n_jobs=-1, random_state=42),\n",
       "             param_grid={'C': [0.5, 1.0, 1.5], 'fit_intercept': [True, False],\n",
       "                         'max_iter': [5, 10, 50, 100, 1000, 10000],\n",
       "                         'penalty': ['l2', 'none'],\n",
       "                         'solver': ['newton-cg', 'lbfgs', 'sag']})"
      ]
     },
     "execution_count": 7,
     "metadata": {},
     "output_type": "execute_result"
    }
   ],
   "source": [
    "lr = LogisticRegression(n_jobs=-1, random_state=42)\n",
    "param_dist = {\n",
    "    \"penalty\": ['l2', 'none'],\n",
    "    \"max_iter\": [5, 10, 50, 100, 1000, 10000], \n",
    "    \"C\": [0.5, 1.0, 1.5],\n",
    "    \"fit_intercept\":[True, False],\n",
    "    \"solver\":['newton-cg', 'lbfgs', 'sag']\n",
    "\n",
    "}\n",
    "gs = GridSearchCV(lr, param_dist, error_score='raise')\n",
    "gs.fit(x_train, y_train.values.ravel())"
   ]
  },
  {
   "cell_type": "code",
   "execution_count": 8,
   "metadata": {},
   "outputs": [
    {
     "data": {
      "text/plain": [
       "{'C': 0.5,\n",
       " 'fit_intercept': True,\n",
       " 'max_iter': 5,\n",
       " 'penalty': 'l2',\n",
       " 'solver': 'sag'}"
      ]
     },
     "execution_count": 8,
     "metadata": {},
     "output_type": "execute_result"
    }
   ],
   "source": [
    "gs.best_params_"
   ]
  },
  {
   "cell_type": "code",
   "execution_count": 9,
   "metadata": {},
   "outputs": [
    {
     "data": {
      "text/plain": [
       "0.7718958224594223"
      ]
     },
     "execution_count": 9,
     "metadata": {},
     "output_type": "execute_result"
    }
   ],
   "source": [
    "gs.best_score_"
   ]
  },
  {
   "cell_type": "markdown",
   "metadata": {},
   "source": [
    "Diky hyperparameter tuningu jsme dosahli zlepseni o 0,8 pp."
   ]
  },
  {
   "cell_type": "code",
   "execution_count": 27,
   "metadata": {},
   "outputs": [
    {
     "data": {
      "text/plain": [
       "0.7548543689320388"
      ]
     },
     "execution_count": 27,
     "metadata": {},
     "output_type": "execute_result"
    }
   ],
   "source": [
    "acc(y_test, gs.predict(x_test))"
   ]
  },
  {
   "cell_type": "markdown",
   "metadata": {},
   "source": [
    "<hr><hr>"
   ]
  },
  {
   "cell_type": "markdown",
   "metadata": {},
   "source": [
    "# Neuronove site (Keras)"
   ]
  },
  {
   "cell_type": "code",
   "execution_count": 10,
   "metadata": {},
   "outputs": [
    {
     "name": "stdout",
     "output_type": "stream",
     "text": [
      "Epoch 1/20\n",
      "206/206 [==============================] - 2s 5ms/step - loss: 0.5267 - accuracy: 0.7280 - val_loss: 0.5082 - val_accuracy: 0.7549\n",
      "Epoch 2/20\n",
      "206/206 [==============================] - 1s 3ms/step - loss: 0.4971 - accuracy: 0.7557 - val_loss: 0.4954 - val_accuracy: 0.7591\n",
      "Epoch 3/20\n",
      "206/206 [==============================] - 1s 3ms/step - loss: 0.4889 - accuracy: 0.7666 - val_loss: 0.5009 - val_accuracy: 0.7549\n",
      "Epoch 4/20\n",
      "206/206 [==============================] - 1s 4ms/step - loss: 0.4815 - accuracy: 0.7640 - val_loss: 0.5102 - val_accuracy: 0.7579\n",
      "Epoch 5/20\n",
      "206/206 [==============================] - 1s 4ms/step - loss: 0.4819 - accuracy: 0.7648 - val_loss: 0.5190 - val_accuracy: 0.7615\n",
      "Epoch 6/20\n",
      "206/206 [==============================] - 1s 4ms/step - loss: 0.4784 - accuracy: 0.7655 - val_loss: 0.5146 - val_accuracy: 0.7609\n",
      "Epoch 7/20\n",
      "206/206 [==============================] - 1s 4ms/step - loss: 0.4781 - accuracy: 0.7654 - val_loss: 0.5025 - val_accuracy: 0.7524\n"
     ]
    }
   ],
   "source": [
    "model = keras.models.Sequential([\n",
    "    keras.layers.Dense(512, activation=\"relu\", input_shape=(x_train.shape[1],)),\n",
    "    keras.layers.Dropout(0.4),\n",
    "\n",
    "    keras.layers.Dense(256, activation=\"relu\", input_shape=(3,)),\n",
    "    keras.layers.Dropout(0.3),\n",
    "\n",
    "    keras.layers.Dense(128, activation=\"relu\"),\n",
    "    keras.layers.Dropout(0.2),\n",
    "\n",
    "    keras.layers.Dense(1, activation=\"sigmoid\"),\n",
    "])\n",
    "\n",
    "model.compile(loss=\"binary_crossentropy\",\n",
    "             optimizer=\"adam\",\n",
    "             metrics=[\"accuracy\"])\n",
    "\n",
    "history = model.fit(x_train, y_train, epochs=20, validation_data=[x_test, y_test], callbacks=[keras.callbacks.EarlyStopping(patience=5, restore_best_weights=True)])"
   ]
  },
  {
   "cell_type": "code",
   "execution_count": 11,
   "metadata": {},
   "outputs": [
    {
     "data": {
      "text/plain": [
       "<AxesSubplot:>"
      ]
     },
     "execution_count": 11,
     "metadata": {},
     "output_type": "execute_result"
    },
    {
     "data": {
      "image/png": "[encoded data removed]",
      "text/plain": [
       "<Figure size 432x288 with 1 Axes>"
      ]
     },
     "metadata": {
      "needs_background": "light"
     },
     "output_type": "display_data"
    }
   ],
   "source": [
    "pd.DataFrame(history.history)[['loss', 'val_loss']].iloc[0:].plot()"
   ]
  },
  {
   "cell_type": "markdown",
   "metadata": {},
   "source": [
    "Nase neuronove site dosahly nejvyssi accuracy 76,6%, tedy o 0,5pp horsi vysledek nez nejlepsi logisticka regrese. Zkusime model neuronovych siti poladit pomoci GridSearch."
   ]
  },
  {
   "cell_type": "markdown",
   "metadata": {},
   "source": [
    "# Tuning neuronovych siti"
   ]
  },
  {
   "cell_type": "code",
   "execution_count": 12,
   "metadata": {},
   "outputs": [],
   "source": [
    "def create_model(optimizer=\"adam\", dropout=0.1, init='uniform', nbr_features=9, dense_nparams=256):\n",
    "    model = Sequential()\n",
    "    model.add(Dense(dense_nparams, activation='relu', input_shape=(nbr_features,), kernel_initializer=init,)) \n",
    "    model.add(Dropout(dropout), )\n",
    "    model.add(Dense(1, activation='sigmoid'))\n",
    "    model.compile(loss='binary_crossentropy', optimizer=optimizer,metrics=[\"accuracy\"])\n",
    "    return model\n",
    "\n",
    "keras_estimator = KerasClassifier(build_fn=create_model, verbose=1)\n",
    "\n",
    "param_grid = {\n",
    "    'epochs': [5],\n",
    "    'dense_nparams': [32, 256, 512],\n",
    "    'init': [ 'uniform', 'zeros', 'normal', ], \n",
    "    'batch_size':[2, 16, 32],\n",
    "    # 'kc__optimizer':['RMSprop', 'Adam', 'Adamax', 'sgd'],\n",
    "    'dropout': [0.4, 0.2, 0]\n",
    "}\n",
    "\n",
    "grid = GridSearchCV(estimator=keras_estimator,  \n",
    "                    n_jobs=-1, \n",
    "                    verbose=1,\n",
    "                    return_train_score=True,\n",
    "                    cv=5,\n",
    "                    param_grid=param_grid,)\n",
    "\n",
    "grid.fit(x_train, y_train)"
   ]
  },
  {
   "cell_type": "code",
   "execution_count": 22,
   "metadata": {},
   "outputs": [
    {
     "data": {
      "text/plain": [
       "{'batch_size': 32,\n",
       " 'dense_nparams': 32,\n",
       " 'dropout': 0.2,\n",
       " 'epochs': 5,\n",
       " 'init': 'normal'}"
      ]
     },
     "execution_count": 22,
     "metadata": {},
     "output_type": "execute_result"
    }
   ],
   "source": [
    "grid.best_params_"
   ]
  },
  {
   "cell_type": "code",
   "execution_count": 23,
   "metadata": {},
   "outputs": [
    {
     "data": {
      "text/plain": [
       "0.7752341151237487"
      ]
     },
     "execution_count": 23,
     "metadata": {},
     "output_type": "execute_result"
    }
   ],
   "source": [
    "grid.best_score_"
   ]
  },
  {
   "cell_type": "code",
   "execution_count": 25,
   "metadata": {},
   "outputs": [
    {
     "data": {
      "text/plain": [
       "0.7615291262135923"
      ]
     },
     "execution_count": 25,
     "metadata": {},
     "output_type": "execute_result"
    }
   ],
   "source": [
    "acc(y_test, grid.best_estimator_.predict(x_test))"
   ]
  },
  {
   "cell_type": "code",
   "execution_count": null,
   "metadata": {},
   "outputs": [],
   "source": [
    "nn1 = grid.best_estimator_"
   ]
  },
  {
   "cell_type": "markdown",
   "metadata": {},
   "source": [
    "<hr>"
   ]
  },
  {
   "cell_type": "code",
   "execution_count": 47,
   "metadata": {},
   "outputs": [
    {
     "name": "stdout",
     "output_type": "stream",
     "text": [
      "Fitting 5 folds for each of 9 candidates, totalling 45 fits\n",
      "Epoch 1/5\n",
      "206/206 [==============================] - 2s 3ms/step - loss: 0.5895 - accuracy: 0.6933\n",
      "Epoch 2/5\n",
      "206/206 [==============================] - 1s 4ms/step - loss: 0.5064 - accuracy: 0.7581\n",
      "Epoch 3/5\n",
      "206/206 [==============================] - 1s 3ms/step - loss: 0.4979 - accuracy: 0.7642\n",
      "Epoch 4/5\n",
      "206/206 [==============================] - 1s 3ms/step - loss: 0.4919 - accuracy: 0.7683\n",
      "Epoch 5/5\n",
      "206/206 [==============================] - 0s 2ms/step - loss: 0.4898 - accuracy: 0.7640\n"
     ]
    },
    {
     "data": {
      "text/plain": [
       "GridSearchCV(cv=5,\n",
       "             estimator=<keras.wrappers.scikit_learn.KerasClassifier object at 0x00000214F2CE3A00>,\n",
       "             n_jobs=-1,\n",
       "             param_grid={'batch_size': [32], 'dense_nparams': [32, 256, 512],\n",
       "                         'dropout': [0.4, 0.2, 0], 'epochs': [5],\n",
       "                         'init': ['normal']},\n",
       "             return_train_score=True, verbose=1)"
      ]
     },
     "execution_count": 47,
     "metadata": {},
     "output_type": "execute_result"
    }
   ],
   "source": [
    "def create_model(optimizer=\"adam\", dropout=0.1, init='uniform', nbr_features=9, dense_nparams=256):\n",
    "    model = Sequential()\n",
    "    model.add(Dense(dense_nparams, activation='relu', input_shape=(nbr_features,), kernel_initializer=init,)) \n",
    "    model.add(Dropout(dropout), )\n",
    "\n",
    "    model.add(Dense(dense_nparams, activation='relu')) \n",
    "    model.add(Dropout(dropout), )\n",
    "    \n",
    "    model.add(Dense(dense_nparams, activation='relu')) \n",
    "    model.add(Dropout(dropout), )\n",
    "\n",
    "    model.add(Dense(1, activation='sigmoid'))\n",
    "    model.compile(loss='binary_crossentropy', optimizer=optimizer,metrics=[\"accuracy\"])\n",
    "    return model\n",
    "\n",
    "keras_estimator = KerasClassifier(build_fn=create_model, verbose=1)\n",
    "\n",
    "param_grid = {\n",
    "    'epochs': [5],\n",
    "    'dense_nparams': [32, 256, 512],\n",
    "    'init': ['normal'], \n",
    "    'batch_size':[32],\n",
    "    'dropout': [0.4, 0.2, 0]\n",
    "}\n",
    "\n",
    "grid = GridSearchCV(estimator=keras_estimator,  \n",
    "                    n_jobs=-1, \n",
    "                    verbose=1,\n",
    "                    return_train_score=True,\n",
    "                    cv=5,\n",
    "                    param_grid=param_grid,)\n",
    "\n",
    "grid.fit(x_train, y_train)\n",
    "\n"
   ]
  },
  {
   "cell_type": "code",
   "execution_count": 48,
   "metadata": {},
   "outputs": [
    {
     "data": {
      "text/plain": [
       "{'batch_size': 32,\n",
       " 'dense_nparams': 32,\n",
       " 'dropout': 0.2,\n",
       " 'epochs': 5,\n",
       " 'init': 'normal'}"
      ]
     },
     "execution_count": 48,
     "metadata": {},
     "output_type": "execute_result"
    }
   ],
   "source": [
    "grid.best_params_"
   ]
  },
  {
   "cell_type": "code",
   "execution_count": 49,
   "metadata": {},
   "outputs": [
    {
     "data": {
      "text/plain": [
       "0.7687083721160889"
      ]
     },
     "execution_count": 49,
     "metadata": {},
     "output_type": "execute_result"
    }
   ],
   "source": [
    "grid.best_score_"
   ]
  },
  {
   "cell_type": "code",
   "execution_count": 52,
   "metadata": {},
   "outputs": [
    {
     "name": "stdout",
     "output_type": "stream",
     "text": [
      "0.7651669223300971\n"
     ]
    }
   ],
   "source": [
    "acc(y_test, grid.best_estimator_.predict(x_test))"
   ]
  },
  {
   "cell_type": "code",
   "execution_count": 51,
   "metadata": {},
   "outputs": [],
   "source": [
    "nn2 = grid.best_estimator_"
   ]
  },
  {
   "cell_type": "markdown",
   "metadata": {},
   "source": [
    "<hr>"
   ]
  },
  {
   "cell_type": "code",
   "execution_count": 40,
   "metadata": {},
   "outputs": [
    {
     "name": "stdout",
     "output_type": "stream",
     "text": [
      "Fitting 5 folds for each of 6 candidates, totalling 30 fits\n",
      "Epoch 1/5\n",
      "206/206 [==============================] - 1s 1ms/step - loss: 0.6107 - accuracy: 0.6931\n",
      "Epoch 2/5\n",
      "206/206 [==============================] - 0s 1ms/step - loss: 0.5103 - accuracy: 0.7587\n",
      "Epoch 3/5\n",
      "206/206 [==============================] - 0s 1ms/step - loss: 0.5033 - accuracy: 0.7619\n",
      "Epoch 4/5\n",
      "206/206 [==============================] - 0s 1ms/step - loss: 0.4948 - accuracy: 0.7683\n",
      "Epoch 5/5\n",
      "206/206 [==============================] - 0s 1ms/step - loss: 0.4950 - accuracy: 0.7693\n"
     ]
    },
    {
     "data": {
      "text/plain": [
       "GridSearchCV(cv=5,\n",
       "             estimator=<keras.wrappers.scikit_learn.KerasClassifier object at 0x00000214F1A32880>,\n",
       "             n_jobs=-1,\n",
       "             param_grid={'batch_size': [32, 64], 'dense_nparams': [16, 32, 64],\n",
       "                         'dropout': [0.2], 'epochs': [5], 'init': ['normal']},\n",
       "             return_train_score=True, verbose=1)"
      ]
     },
     "execution_count": 40,
     "metadata": {},
     "output_type": "execute_result"
    }
   ],
   "source": [
    "keras_estimator = KerasClassifier(build_fn=create_model, verbose=1)\n",
    "\n",
    "param_grid = {\n",
    "    'epochs': [5],\n",
    "    'dense_nparams': [16, 32, 64],\n",
    "    'init': ['normal'], \n",
    "    'batch_size':[32, 64],\n",
    "    'dropout': [0.2]\n",
    "}\n",
    "grid = GridSearchCV(estimator=keras_estimator,  \n",
    "                    n_jobs=-1, \n",
    "                    verbose=1,\n",
    "                    return_train_score=True,\n",
    "                    cv=5,\n",
    "                    param_grid=param_grid,)\n",
    "grid.fit(x_train, y_train)"
   ]
  },
  {
   "cell_type": "code",
   "execution_count": 41,
   "metadata": {},
   "outputs": [
    {
     "data": {
      "text/plain": [
       "{'batch_size': 32,\n",
       " 'dense_nparams': 16,\n",
       " 'dropout': 0.2,\n",
       " 'epochs': 5,\n",
       " 'init': 'normal'}"
      ]
     },
     "execution_count": 41,
     "metadata": {},
     "output_type": "execute_result"
    }
   ],
   "source": [
    "grid.best_params_"
   ]
  },
  {
   "cell_type": "code",
   "execution_count": 42,
   "metadata": {},
   "outputs": [
    {
     "data": {
      "text/plain": [
       "0.7639563106796117"
      ]
     },
     "execution_count": 42,
     "metadata": {},
     "output_type": "execute_result"
    }
   ],
   "source": [
    "acc(y_test, grid.best_estimator_.predict(x_test))"
   ]
  },
  {
   "cell_type": "code",
   "execution_count": null,
   "metadata": {},
   "outputs": [],
   "source": [
    "nn3 = grid.best_estimator_"
   ]
  },
  {
   "cell_type": "markdown",
   "metadata": {},
   "source": [
    "<hr>"
   ]
  },
  {
   "cell_type": "markdown",
   "metadata": {},
   "source": [
    "# Shrnuti"
   ]
  },
  {
   "cell_type": "markdown",
   "metadata": {},
   "source": [
    "Model logisticke regrese po tuningu dosahl presnosti 75,48 % na testovacim setu. Nejlepsi model neuronovych siti dosahl 76,52 %, tedy o 1,04pp lepsi vysledek. Otazka je, zda tento rozdil stoji za vypocetni vykon a cas potrebny k natrenovani site. Dle meho nazoru nestoji."
   ]
  },
  {
   "cell_type": "markdown",
   "metadata": {},
   "source": [
    "Popis nejlepsiho modelu:\n",
    "\n",
    "{'batch_size': 32,\n",
    " 'dense_nparams': 32,\n",
    " 'dropout': 0.2,\n",
    " 'epochs': 5,\n",
    " 'init': 'normal'}\n",
    "\n",
    "Sekvencni model Keras se tremi huste propojenymi vrstvami o 32 parametrech, velikosti davky 32 a naslednym 20% dropoutem."
   ]
  }
 ],
 "metadata": {
  "interpreter": {
   "hash": "640009e82ad6d4e631cbdf10bf0c7af17dadd7f435ecc934f544f2dace7fbcc0"
  },
  "kernelspec": {
   "display_name": "Python 3.9.5 64-bit",
   "name": "python3"
  },
  "language_info": {
   "codemirror_mode": {
    "name": "ipython",
    "version": 3
   },
   "file_extension": ".py",
   "mimetype": "text/x-python",
   "name": "python",
   "nbconvert_exporter": "python",
   "pygments_lexer": "ipython3",
   "version": "3.9.5"
  },
  "orig_nbformat": 4
 },
 "nbformat": 4,
 "nbformat_minor": 2
}
