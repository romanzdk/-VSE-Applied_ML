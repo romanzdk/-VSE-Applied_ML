{
 "cells": [
  {
   "cell_type": "code",
   "execution_count": 114,
   "metadata": {},
   "outputs": [],
   "source": [
    "import requests\n",
    "import pandas as pd\n",
    "from bs4 import BeautifulSoup\n",
    "import re\n",
    "import time"
   ]
  },
  {
   "cell_type": "markdown",
   "metadata": {},
   "source": [
    "# 1 Get all players"
   ]
  },
  {
   "cell_type": "code",
   "execution_count": 116,
   "metadata": {},
   "outputs": [
    {
     "data": {
      "text/plain": [
       "0        miffek_daniel_1976\n",
       "1        lubos_penkava_1965\n",
       "2      dohnal_jaroslav_1988\n",
       "3           sturc_jiri_1989\n",
       "4        martin_dvorak_2005\n",
       "5         krejci_milan_1968\n",
       "6            jezo_ivan_1977\n",
       "7     zvolsky_miroslav_1964\n",
       "8       martin_melisek_2002\n",
       "9       zrcek_miroslav_1952\n",
       "10    nadvornik_stepan_1997\n",
       "11         roman_zydyk_1996\n",
       "12    hausenblas_jakub_1997\n",
       "13           srb_pavel_1978\n",
       "14         tomas_bidlo_1989\n",
       "15        povolny_ales_1968\n",
       "16       hrazdira_jiri_1948\n",
       "17         kosar_pavel_1952\n",
       "18          mohr_tomas_1979\n",
       "19          jan_plisek_2003\n",
       "20        pavel_plisek_2008\n",
       "21       ondrej_kohout_1982\n",
       "22     vladimir_vlasak_1967\n",
       "23         david_sachl_1972\n",
       "24          jan_hnatek_1946\n",
       "25    michael_schuster_1948\n",
       "26     miroslav_mrazek_1964\n",
       "Name: hráč id, dtype: object"
      ]
     },
     "execution_count": 116,
     "metadata": {},
     "output_type": "execute_result"
    }
   ],
   "source": [
    "players = pd.read_csv('https://www.elost.cz/api_1_0/zebricek_oddil/stolni_tenis_benesov', sep=';')['hráč id']\n",
    "players"
   ]
  },
  {
   "cell_type": "markdown",
   "metadata": {},
   "source": [
    "# 2 Download games for each player and create result dataframe with all games"
   ]
  },
  {
   "cell_type": "code",
   "execution_count": 142,
   "metadata": {},
   "outputs": [
    {
     "name": "stdout",
     "output_type": "stream",
     "text": [
      "miffek_daniel_1976\n",
      "lubos_penkava_1965\n",
      "dohnal_jaroslav_1988\n",
      "sturc_jiri_1989\n",
      "martin_dvorak_2005\n",
      "krejci_milan_1968\n",
      "jezo_ivan_1977\n",
      "zvolsky_miroslav_1964\n",
      "martin_melisek_2002\n",
      "zrcek_miroslav_1952\n",
      "nadvornik_stepan_1997\n",
      "roman_zydyk_1996\n",
      "hausenblas_jakub_1997\n",
      "srb_pavel_1978\n",
      "tomas_bidlo_1989\n",
      "povolny_ales_1968\n",
      "hrazdira_jiri_1948\n",
      "kosar_pavel_1952\n",
      "mohr_tomas_1979\n",
      "jan_plisek_2003\n",
      "pavel_plisek_2008\n",
      "ondrej_kohout_1982\n",
      "vladimir_vlasak_1967\n",
      "david_sachl_1972\n",
      "jan_hnatek_1946\n",
      "michael_schuster_1948\n",
      "miroslav_mrazek_1964\n",
      "96.66980504989624\n"
     ]
    }
   ],
   "source": [
    "result = pd.DataFrame()\n",
    "start = time.time()\n",
    "\n",
    "for player in players:\n",
    "    print(player)\n",
    "    year = int(player[-4:])\n",
    "    url = f'https://www.elost.cz/st/hrac/{player}?filtr_i_vyhry=ano&filtr_i_prohry=ano&filtr_od_sezony=2011&filtr_zapasy_search=podle+soupe%C5%99e+nebo+odd%C3%ADlu#hrac_zapasy'\n",
    "    page = requests.get(url)\n",
    "    soup = BeautifulSoup(page.content, 'html.parser')\n",
    "    games = str(soup.find_all(\"table\", class_=\"rank\"))\n",
    "    d = games.replace('<br/>', '|')\n",
    "    df = pd.read_html(d)[1]\n",
    "    df[['Hráč', 'Oddíl', 'Družstvo']] = df['Hráč|Oddíl|Družstvo'].str.split('|', expand=True)\n",
    "    df[['Soupeř', 'Oddíl soupeř', 'Družstvo soupeř']] = df['Soupeř|Oddíl|Družstvo'].str.split('|', expand=True)\n",
    "    df[['Výsledek', 'Datum zápasu', 'Soutěž']] = df['Výsledek|Datum zápasu|Soutěž'].str.split('|', expand=True)\n",
    "    df[['Elo hráče', 'Elo (min)', 'Elo (max)']] = df['Elo hráče  |  Elo(min)|  Elo(max)|'].str.split('|', expand=True)\n",
    "    df[['Elo soupeře', 'Elo (min) soupeře', 'Elo (max) soupeře']] = df['Elo soupeře  |  Elo(min)|  Elo(max)|'].str.split('|', expand=True)\n",
    "    df['Rok narození'] = year\n",
    "    main_section = soup.find(\"div\", {\"id\": \"main_section\"}).text\n",
    "    try:\n",
    "        df['Max elo'] = int(re.compile(\"Nejvyšší dosažené Elo: [0-9]{3,4}\").findall(main_section)[0][-4:])\n",
    "    except:\n",
    "        df['Max elo'] = None\n",
    "    try:\n",
    "        df['Elo nejlepšího poraženého soupeře'] = int(re.compile(\"Nejlépe hodnocený hráč, kterého .* porazil\\(a\\): .*, Elo: ([0-9]{3,4})\").findall(main_section)[0])\n",
    "    except:\n",
    "        df['Elo nejlepšího poraženého soupeře'] = None\n",
    "\n",
    "    df['ID Hráč'] = player\n",
    "\n",
    "    df['ID Soupeř'] = re.compile('st/hrac/(.*)\"').findall(d)\n",
    "    df['Rok narození soupeř'] = df['ID Soupeř'].apply(lambda x: int(x[-4:]) if (x[-4:].find(\"-\") <= 0) else int(x[-6:-2]))\n",
    "    player_games = df.iloc[:, 5:]\n",
    "    result = result.append(player_games)\n",
    "result\n",
    "end = time.time()\n",
    "print(end - start)"
   ]
  },
  {
   "cell_type": "code",
   "execution_count": 143,
   "metadata": {},
   "outputs": [],
   "source": [
    "result.to_csv('data/1_raw.csv', index=False)"
   ]
  },
  {
   "cell_type": "code",
   "execution_count": null,
   "metadata": {},
   "outputs": [],
   "source": []
  },
  {
   "cell_type": "markdown",
   "metadata": {},
   "source": [
    "Test ziskani vice udaju o souperi (rok narozeni, max elo a nejlepsi porazeny souper)"
   ]
  },
  {
   "cell_type": "code",
   "execution_count": 106,
   "metadata": {},
   "outputs": [],
   "source": [
    "# def get_player_info(player):\n",
    "#     print(player)\n",
    "#     year = int(player[-4:])\n",
    "#     url = f'https://www.elost.cz/st/hrac/{player}?filtr_i_vyhry=ano&filtr_i_prohry=ano&filtr_od_sezony=2011&filtr_zapasy_search=podle+soupe%C5%99e+nebo+odd%C3%ADlu#hrac_zapasy'\n",
    "#     page = requests.get(url)\n",
    "#     soup = BeautifulSoup(page.content, 'html.parser')\n",
    "#     main_section = soup.find(\"div\", {\"id\": \"main_section\"}).text\n",
    "#     max_elo = int(re.compile(\"Nejvyšší dosažené Elo: [0-9]{3,4}\").findall(main_section)[0][-4:])\n",
    "#     best_souper = int(re.compile(\"Nejlépe hodnocený hráč, kterého .* porazil\\(a\\): .*, Elo: ([0-9]{3,4})\").findall(main_section)[0])\n",
    "    \n",
    "#     return (year, max_elo, best_souper)"
   ]
  },
  {
   "cell_type": "code",
   "execution_count": null,
   "metadata": {},
   "outputs": [],
   "source": [
    "# result = pd.DataFrame()\n",
    "# player = 'martin_dvorak_2005'\n",
    "# year = int(player[-4:])\n",
    "# url = f'https://www.elost.cz/st/hrac/{player}?filtr_i_vyhry=ano&filtr_i_prohry=ano&filtr_od_sezony=2011&filtr_zapasy_search=podle+soupe%C5%99e+nebo+odd%C3%ADlu#hrac_zapasy'\n",
    "# page = requests.get(url)\n",
    "# soup = BeautifulSoup(page.content, 'html.parser')\n",
    "# games = str(soup.find_all(\"table\", class_=\"rank\"))\n",
    "# d = games.replace('<br/>', '|')\n",
    "# df = pd.read_html(d)[1]\n",
    "# df[['Hráč', 'Oddíl', 'Družstvo']] = df['Hráč|Oddíl|Družstvo'].str.split('|', expand=True)\n",
    "# df[['Soupeř', 'Oddíl soupeř', 'Družstvo soupeř']] = df['Soupeř|Oddíl|Družstvo'].str.split('|', expand=True)\n",
    "# df[['Výsledek', 'Datum zápasu', 'Soutěž']] = df['Výsledek|Datum zápasu|Soutěž'].str.split('|', expand=True)\n",
    "# df[['Elo hráče', 'Elo (min)', 'Elo (max)']] = df['Elo hráče  |  Elo(min)|  Elo(max)|'].str.split('|', expand=True)\n",
    "# df[['Elo soupeře', 'Elo (min) soupeře', 'Elo (max) soupeře']] = df['Elo soupeře  |  Elo(min)|  Elo(max)|'].str.split('|', expand=True)\n",
    "# df['Rok narození'] = year\n",
    "# main_section = soup.find(\"div\", {\"id\": \"main_section\"}).text\n",
    "# try:\n",
    "#     df['Max elo'] = int(re.compile(\"Nejvyšší dosažené Elo: [0-9]{3,4}\").findall(main_section)[0][-4:])\n",
    "# except:\n",
    "#     df['Max elo'] = None\n",
    "# try:\n",
    "#     df['Elo nejlepšího poraženého soupeře'] = int(re.compile(\"Nejlépe hodnocený hráč, kterého .* porazil\\(a\\): .*, Elo: ([0-9]{3,4})\").findall(main_section)[0])\n",
    "# except:\n",
    "#     df['Elo nejlepšího poraženého soupeře'] = None\n",
    "\n",
    "# df['ID Hráč'] = player\n",
    "\n",
    "# df['ID Soupeř'] = re.compile('st/hrac/(.*)\"').findall(d)\n",
    "# df['Rok narození soupeř'] = df['ID Soupeř'].apply(lambda x: int(x[-4:]) if (x[-4:].find(\"-\") <= 0) else int(x[-6:-2]))\n",
    "# # df[['Rok narození soupeř', 'Max elo soupeř', 'Elo nejlepšího poraženého soupeře soupeř']] = df['ID Soupeř'].apply(lambda x: get_player_info(x))\n",
    "# player_games = df.iloc[:, 5:]\n",
    "# player_games"
   ]
  },
  {
   "cell_type": "markdown",
   "metadata": {},
   "source": [
    "Bohuzel ziskani informaci o jednom souperi trvalo prilis dlouho, proto o souperi bude ziskan pouze rok narozeni (z ID hrace)"
   ]
  }
 ],
 "metadata": {
  "interpreter": {
   "hash": "640009e82ad6d4e631cbdf10bf0c7af17dadd7f435ecc934f544f2dace7fbcc0"
  },
  "kernelspec": {
   "display_name": "Python 3.9.5 64-bit",
   "name": "python3"
  },
  "language_info": {
   "codemirror_mode": {
    "name": "ipython",
    "version": 3
   },
   "file_extension": ".py",
   "mimetype": "text/x-python",
   "name": "python",
   "nbconvert_exporter": "python",
   "pygments_lexer": "ipython3",
   "version": "3.9.5"
  },
  "orig_nbformat": 4
 },
 "nbformat": 4,
 "nbformat_minor": 2
}
